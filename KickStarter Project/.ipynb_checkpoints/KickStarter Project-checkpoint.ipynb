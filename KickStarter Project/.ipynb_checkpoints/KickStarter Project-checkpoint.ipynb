{
 "cells": [
  {
   "cell_type": "code",
   "execution_count": 264,
   "metadata": {
    "scrolled": true
   },
   "outputs": [
    {
     "name": "stdout",
     "output_type": "stream",
     "text": [
      "Populating the interactive namespace from numpy and matplotlib\n"
     ]
    }
   ],
   "source": [
    "from pandas import Series, DataFrame\n",
    "import pandas as pd\n",
    "%pylab inline\n",
    "import statsmodels.api as sm\n",
    "from patsy import dmatrices\n",
    "from sklearn.linear_model import LogisticRegression\n",
    "import matplotlib.pyplot as plt\n",
    "from sklearn.model_selection import train_test_split\n",
    "from sklearn import ensemble\n",
    "from sklearn.model_selection import GridSearchCV\n",
    "from sklearn.model_selection import RepeatedStratifiedKFold\n",
    "from sklearn.model_selection import RandomizedSearchCV\n",
    "from sklearn.datasets import load_digits\n",
    "from scipy.stats import randint as sp_randint\n",
    "from time import time\n",
    "from tabulate import tabulate\n",
    "from sklearn.metrics import *\n",
    "from xgboost.sklearn import XGBClassifier\n",
    "df = pd.read_csv('/Users/ReeceWooten/Documents/School /MSBA/Summer/Predictive analytics /Unsuprivised learning/GitHub/Data-Science-Portfolio/KickStarter Project/kickstarter_final.csv')\n",
    "\n"
   ]
  },
  {
   "cell_type": "markdown",
   "metadata": {},
   "source": [
    "## View the first couple of rows"
   ]
  },
  {
   "cell_type": "code",
   "execution_count": 265,
   "metadata": {
    "scrolled": true
   },
   "outputs": [
    {
     "data": {
      "text/html": [
       "<div>\n",
       "<style>\n",
       "    .dataframe thead tr:only-child th {\n",
       "        text-align: right;\n",
       "    }\n",
       "\n",
       "    .dataframe thead th {\n",
       "        text-align: left;\n",
       "    }\n",
       "\n",
       "    .dataframe tbody tr th {\n",
       "        vertical-align: top;\n",
       "    }\n",
       "</style>\n",
       "<table border=\"1\" class=\"dataframe\">\n",
       "  <thead>\n",
       "    <tr style=\"text-align: right;\">\n",
       "      <th></th>\n",
       "      <th>name</th>\n",
       "      <th>goal</th>\n",
       "      <th>pledged</th>\n",
       "      <th>state</th>\n",
       "      <th>country</th>\n",
       "      <th>deadline</th>\n",
       "      <th>state_changed_at</th>\n",
       "      <th>created_at</th>\n",
       "      <th>launched_at</th>\n",
       "      <th>staff_pick</th>\n",
       "      <th>backers_count</th>\n",
       "      <th>usd_pledged</th>\n",
       "      <th>static_usd_rate</th>\n",
       "      <th>location</th>\n",
       "      <th>category</th>\n",
       "      <th>projectlength</th>\n",
       "      <th>category1</th>\n",
       "      <th>subcategory</th>\n",
       "    </tr>\n",
       "  </thead>\n",
       "  <tbody>\n",
       "    <tr>\n",
       "      <th>0</th>\n",
       "      <td>Racial Reconciliation Music Project</td>\n",
       "      <td>5000.0</td>\n",
       "      <td>262.0</td>\n",
       "      <td>NC</td>\n",
       "      <td>US</td>\n",
       "      <td>1479358740</td>\n",
       "      <td>1479358740</td>\n",
       "      <td>1476729788</td>\n",
       "      <td>1476818224</td>\n",
       "      <td>False</td>\n",
       "      <td>8</td>\n",
       "      <td>262.0</td>\n",
       "      <td>1.0</td>\n",
       "      <td>{\"country\":\"US\",\"urls\":{\"web\":{\"discover\":\"htt...</td>\n",
       "      <td>{\"urls\":{\"web\":{\"discover\":\"http://www.kicksta...</td>\n",
       "      <td>2540516</td>\n",
       "      <td>music</td>\n",
       "      <td>faith</td>\n",
       "    </tr>\n",
       "    <tr>\n",
       "      <th>1</th>\n",
       "      <td>Poetic Cultivation</td>\n",
       "      <td>1500.0</td>\n",
       "      <td>0.0</td>\n",
       "      <td>FL</td>\n",
       "      <td>US</td>\n",
       "      <td>1407002463</td>\n",
       "      <td>1407002463</td>\n",
       "      <td>1404240350</td>\n",
       "      <td>1404410463</td>\n",
       "      <td>False</td>\n",
       "      <td>0</td>\n",
       "      <td>0.0</td>\n",
       "      <td>1.0</td>\n",
       "      <td>{\"country\":\"US\",\"urls\":{\"web\":{\"discover\":\"htt...</td>\n",
       "      <td>{\"urls\":{\"web\":{\"discover\":\"http://www.kicksta...</td>\n",
       "      <td>2592000</td>\n",
       "      <td>publishing</td>\n",
       "      <td>poetry</td>\n",
       "    </tr>\n",
       "  </tbody>\n",
       "</table>\n",
       "</div>"
      ],
      "text/plain": [
       "                                  name    goal  pledged state country  \\\n",
       "0  Racial Reconciliation Music Project  5000.0    262.0    NC      US   \n",
       "1                   Poetic Cultivation  1500.0      0.0    FL      US   \n",
       "\n",
       "     deadline  state_changed_at  created_at  launched_at  staff_pick  \\\n",
       "0  1479358740        1479358740  1476729788   1476818224       False   \n",
       "1  1407002463        1407002463  1404240350   1404410463       False   \n",
       "\n",
       "   backers_count  usd_pledged  static_usd_rate  \\\n",
       "0              8        262.0              1.0   \n",
       "1              0          0.0              1.0   \n",
       "\n",
       "                                            location  \\\n",
       "0  {\"country\":\"US\",\"urls\":{\"web\":{\"discover\":\"htt...   \n",
       "1  {\"country\":\"US\",\"urls\":{\"web\":{\"discover\":\"htt...   \n",
       "\n",
       "                                            category  projectlength  \\\n",
       "0  {\"urls\":{\"web\":{\"discover\":\"http://www.kicksta...        2540516   \n",
       "1  {\"urls\":{\"web\":{\"discover\":\"http://www.kicksta...        2592000   \n",
       "\n",
       "    category1 subcategory  \n",
       "0       music       faith  \n",
       "1  publishing      poetry  "
      ]
     },
     "execution_count": 265,
     "metadata": {},
     "output_type": "execute_result"
    }
   ],
   "source": [
    "df[:2]"
   ]
  },
  {
   "cell_type": "markdown",
   "metadata": {},
   "source": [
    "# Pre-Proccessing/Feature Engineering"
   ]
  },
  {
   "cell_type": "markdown",
   "metadata": {},
   "source": [
    "### Create a successful status column"
   ]
  },
  {
   "cell_type": "code",
   "execution_count": 266,
   "metadata": {
    "collapsed": true
   },
   "outputs": [],
   "source": [
    "df.loc[df['goal']<=df['pledged'], 'status'] = 1\n",
    "df.loc[df['goal']>df['pledged'], 'status']= 0\n",
    "df['status']=pd.to_numeric(df['status'])\n"
   ]
  },
  {
   "cell_type": "code",
   "execution_count": 267,
   "metadata": {},
   "outputs": [
    {
     "data": {
      "text/plain": [
       "0.40069861281191654"
      ]
     },
     "execution_count": 267,
     "metadata": {},
     "output_type": "execute_result"
    }
   ],
   "source": [
    "sum(df['status']==1)/(float(sum(df['status']==0)+sum(df['status']==1)))"
   ]
  },
  {
   "cell_type": "markdown",
   "metadata": {},
   "source": [
    "The positive class is about 40% of the data so there is no need to re-balance the data"
   ]
  },
  {
   "cell_type": "markdown",
   "metadata": {},
   "source": [
    "### Changing the time stamp to days (currently in seconds)"
   ]
  },
  {
   "cell_type": "code",
   "execution_count": 268,
   "metadata": {
    "collapsed": true
   },
   "outputs": [],
   "source": [
    "df['projectlength_days']=(df['projectlength']/(60*60*24))"
   ]
  },
  {
   "cell_type": "markdown",
   "metadata": {},
   "source": [
    "### Creating a data-frame of unfinished kickstarters"
   ]
  },
  {
   "cell_type": "code",
   "execution_count": 269,
   "metadata": {
    "collapsed": true
   },
   "outputs": [],
   "source": [
    "df_not_fin=df[df['deadline']>1500076800]\n",
    "df_not_fin_0=df_not_fin[df_not_fin['status']==0]"
   ]
  },
  {
   "cell_type": "markdown",
   "metadata": {},
   "source": [
    "### Difference between creation and launch time"
   ]
  },
  {
   "cell_type": "code",
   "execution_count": 270,
   "metadata": {
    "collapsed": true
   },
   "outputs": [],
   "source": [
    "df['time_bw_create_launch']=df['launched_at']-df['created_at']\n",
    "df['time_bw_create_launch']=(df['time_bw_create_launch']/(60*60*24))\n"
   ]
  },
  {
   "cell_type": "markdown",
   "metadata": {},
   "source": [
    "A kickstarter may be more successful if the owner took more time between the creation of the project and the launch of the project"
   ]
  },
  {
   "cell_type": "markdown",
   "metadata": {},
   "source": [
    "### Kickstarter portion of the pledges"
   ]
  },
  {
   "cell_type": "code",
   "execution_count": 271,
   "metadata": {
    "collapsed": true
   },
   "outputs": [],
   "source": [
    "successful=df[df['status']==1]\n",
    "df['kickstarter_cut']=successful['usd_pledged']*.08"
   ]
  },
  {
   "cell_type": "markdown",
   "metadata": {},
   "source": [
    "At the time of the project, kickstarter takes about 8% of successfully funded projects"
   ]
  },
  {
   "cell_type": "markdown",
   "metadata": {},
   "source": [
    "### Summary statistics about the categories "
   ]
  },
  {
   "cell_type": "code",
   "execution_count": 272,
   "metadata": {},
   "outputs": [
    {
     "data": {
      "text/html": [
       "<div>\n",
       "<style>\n",
       "    .dataframe thead tr:only-child th {\n",
       "        text-align: right;\n",
       "    }\n",
       "\n",
       "    .dataframe thead th {\n",
       "        text-align: left;\n",
       "    }\n",
       "\n",
       "    .dataframe tbody tr th {\n",
       "        vertical-align: top;\n",
       "    }\n",
       "</style>\n",
       "<table border=\"1\" class=\"dataframe\">\n",
       "  <thead>\n",
       "    <tr>\n",
       "      <th></th>\n",
       "      <th colspan=\"8\" halign=\"left\">backers_count</th>\n",
       "    </tr>\n",
       "    <tr>\n",
       "      <th></th>\n",
       "      <th>count</th>\n",
       "      <th>mean</th>\n",
       "      <th>std</th>\n",
       "      <th>min</th>\n",
       "      <th>25%</th>\n",
       "      <th>50%</th>\n",
       "      <th>75%</th>\n",
       "      <th>max</th>\n",
       "    </tr>\n",
       "    <tr>\n",
       "      <th>category1</th>\n",
       "      <th></th>\n",
       "      <th></th>\n",
       "      <th></th>\n",
       "      <th></th>\n",
       "      <th></th>\n",
       "      <th></th>\n",
       "      <th></th>\n",
       "      <th></th>\n",
       "    </tr>\n",
       "  </thead>\n",
       "  <tbody>\n",
       "    <tr>\n",
       "      <th>art</th>\n",
       "      <td>4760.0</td>\n",
       "      <td>41.535714</td>\n",
       "      <td>344.779124</td>\n",
       "      <td>0.0</td>\n",
       "      <td>2.0</td>\n",
       "      <td>9.0</td>\n",
       "      <td>36.00</td>\n",
       "      <td>22840.0</td>\n",
       "    </tr>\n",
       "    <tr>\n",
       "      <th>comics</th>\n",
       "      <td>1317.0</td>\n",
       "      <td>160.582384</td>\n",
       "      <td>420.104241</td>\n",
       "      <td>0.0</td>\n",
       "      <td>11.0</td>\n",
       "      <td>45.0</td>\n",
       "      <td>138.00</td>\n",
       "      <td>6435.0</td>\n",
       "    </tr>\n",
       "    <tr>\n",
       "      <th>crafts</th>\n",
       "      <td>957.0</td>\n",
       "      <td>19.137931</td>\n",
       "      <td>62.201436</td>\n",
       "      <td>0.0</td>\n",
       "      <td>1.0</td>\n",
       "      <td>3.0</td>\n",
       "      <td>10.00</td>\n",
       "      <td>1069.0</td>\n",
       "    </tr>\n",
       "    <tr>\n",
       "      <th>dance</th>\n",
       "      <td>357.0</td>\n",
       "      <td>35.089636</td>\n",
       "      <td>43.581292</td>\n",
       "      <td>0.0</td>\n",
       "      <td>4.0</td>\n",
       "      <td>21.0</td>\n",
       "      <td>51.00</td>\n",
       "      <td>294.0</td>\n",
       "    </tr>\n",
       "    <tr>\n",
       "      <th>design</th>\n",
       "      <td>2097.0</td>\n",
       "      <td>440.270386</td>\n",
       "      <td>2033.722392</td>\n",
       "      <td>0.0</td>\n",
       "      <td>13.0</td>\n",
       "      <td>77.0</td>\n",
       "      <td>287.00</td>\n",
       "      <td>62642.0</td>\n",
       "    </tr>\n",
       "    <tr>\n",
       "      <th>fashion</th>\n",
       "      <td>2736.0</td>\n",
       "      <td>65.642544</td>\n",
       "      <td>313.512828</td>\n",
       "      <td>0.0</td>\n",
       "      <td>1.0</td>\n",
       "      <td>5.0</td>\n",
       "      <td>37.00</td>\n",
       "      <td>9624.0</td>\n",
       "    </tr>\n",
       "    <tr>\n",
       "      <th>film</th>\n",
       "      <td>7952.0</td>\n",
       "      <td>96.016097</td>\n",
       "      <td>1085.043809</td>\n",
       "      <td>0.0</td>\n",
       "      <td>3.0</td>\n",
       "      <td>21.0</td>\n",
       "      <td>66.00</td>\n",
       "      <td>91585.0</td>\n",
       "    </tr>\n",
       "    <tr>\n",
       "      <th>food</th>\n",
       "      <td>3156.0</td>\n",
       "      <td>39.154309</td>\n",
       "      <td>111.435261</td>\n",
       "      <td>0.0</td>\n",
       "      <td>1.0</td>\n",
       "      <td>4.0</td>\n",
       "      <td>25.00</td>\n",
       "      <td>2165.0</td>\n",
       "    </tr>\n",
       "    <tr>\n",
       "      <th>games</th>\n",
       "      <td>3710.0</td>\n",
       "      <td>513.054717</td>\n",
       "      <td>2134.211020</td>\n",
       "      <td>0.0</td>\n",
       "      <td>7.0</td>\n",
       "      <td>73.0</td>\n",
       "      <td>321.75</td>\n",
       "      <td>69320.0</td>\n",
       "    </tr>\n",
       "    <tr>\n",
       "      <th>journalism</th>\n",
       "      <td>713.0</td>\n",
       "      <td>37.886396</td>\n",
       "      <td>193.149196</td>\n",
       "      <td>0.0</td>\n",
       "      <td>0.0</td>\n",
       "      <td>2.0</td>\n",
       "      <td>8.00</td>\n",
       "      <td>3116.0</td>\n",
       "    </tr>\n",
       "    <tr>\n",
       "      <th>music</th>\n",
       "      <td>8263.0</td>\n",
       "      <td>52.641293</td>\n",
       "      <td>135.303278</td>\n",
       "      <td>0.0</td>\n",
       "      <td>2.0</td>\n",
       "      <td>22.0</td>\n",
       "      <td>64.00</td>\n",
       "      <td>4905.0</td>\n",
       "    </tr>\n",
       "    <tr>\n",
       "      <th>photography</th>\n",
       "      <td>1194.0</td>\n",
       "      <td>35.159966</td>\n",
       "      <td>117.585590</td>\n",
       "      <td>0.0</td>\n",
       "      <td>1.0</td>\n",
       "      <td>3.0</td>\n",
       "      <td>20.00</td>\n",
       "      <td>2687.0</td>\n",
       "    </tr>\n",
       "    <tr>\n",
       "      <th>publishing</th>\n",
       "      <td>5933.0</td>\n",
       "      <td>71.653632</td>\n",
       "      <td>266.193191</td>\n",
       "      <td>0.0</td>\n",
       "      <td>2.0</td>\n",
       "      <td>15.0</td>\n",
       "      <td>62.00</td>\n",
       "      <td>9044.0</td>\n",
       "    </tr>\n",
       "    <tr>\n",
       "      <th>technology</th>\n",
       "      <td>5736.0</td>\n",
       "      <td>170.767782</td>\n",
       "      <td>833.516306</td>\n",
       "      <td>0.0</td>\n",
       "      <td>1.0</td>\n",
       "      <td>6.0</td>\n",
       "      <td>52.00</td>\n",
       "      <td>21412.0</td>\n",
       "    </tr>\n",
       "    <tr>\n",
       "      <th>theater</th>\n",
       "      <td>932.0</td>\n",
       "      <td>47.245708</td>\n",
       "      <td>149.829401</td>\n",
       "      <td>0.0</td>\n",
       "      <td>4.0</td>\n",
       "      <td>19.0</td>\n",
       "      <td>50.00</td>\n",
       "      <td>3722.0</td>\n",
       "    </tr>\n",
       "  </tbody>\n",
       "</table>\n",
       "</div>"
      ],
      "text/plain": [
       "            backers_count                                                    \\\n",
       "                    count        mean          std  min   25%   50%     75%   \n",
       "category1                                                                     \n",
       "art                4760.0   41.535714   344.779124  0.0   2.0   9.0   36.00   \n",
       "comics             1317.0  160.582384   420.104241  0.0  11.0  45.0  138.00   \n",
       "crafts              957.0   19.137931    62.201436  0.0   1.0   3.0   10.00   \n",
       "dance               357.0   35.089636    43.581292  0.0   4.0  21.0   51.00   \n",
       "design             2097.0  440.270386  2033.722392  0.0  13.0  77.0  287.00   \n",
       "fashion            2736.0   65.642544   313.512828  0.0   1.0   5.0   37.00   \n",
       "film               7952.0   96.016097  1085.043809  0.0   3.0  21.0   66.00   \n",
       "food               3156.0   39.154309   111.435261  0.0   1.0   4.0   25.00   \n",
       "games              3710.0  513.054717  2134.211020  0.0   7.0  73.0  321.75   \n",
       "journalism          713.0   37.886396   193.149196  0.0   0.0   2.0    8.00   \n",
       "music              8263.0   52.641293   135.303278  0.0   2.0  22.0   64.00   \n",
       "photography        1194.0   35.159966   117.585590  0.0   1.0   3.0   20.00   \n",
       "publishing         5933.0   71.653632   266.193191  0.0   2.0  15.0   62.00   \n",
       "technology         5736.0  170.767782   833.516306  0.0   1.0   6.0   52.00   \n",
       "theater             932.0   47.245708   149.829401  0.0   4.0  19.0   50.00   \n",
       "\n",
       "                      \n",
       "                 max  \n",
       "category1             \n",
       "art          22840.0  \n",
       "comics        6435.0  \n",
       "crafts        1069.0  \n",
       "dance          294.0  \n",
       "design       62642.0  \n",
       "fashion       9624.0  \n",
       "film         91585.0  \n",
       "food          2165.0  \n",
       "games        69320.0  \n",
       "journalism    3116.0  \n",
       "music         4905.0  \n",
       "photography   2687.0  \n",
       "publishing    9044.0  \n",
       "technology   21412.0  \n",
       "theater       3722.0  "
      ]
     },
     "execution_count": 272,
     "metadata": {},
     "output_type": "execute_result"
    }
   ],
   "source": [
    "backers_cat=df[['backers_count','category1']]\n",
    "backers_cat_stat=backers_cat.groupby('category1').describe()\n",
    "backers_cat_stat"
   ]
  },
  {
   "cell_type": "code",
   "execution_count": 273,
   "metadata": {},
   "outputs": [
    {
     "data": {
      "text/html": [
       "<div>\n",
       "<style>\n",
       "    .dataframe thead tr:only-child th {\n",
       "        text-align: right;\n",
       "    }\n",
       "\n",
       "    .dataframe thead th {\n",
       "        text-align: left;\n",
       "    }\n",
       "\n",
       "    .dataframe tbody tr th {\n",
       "        vertical-align: top;\n",
       "    }\n",
       "</style>\n",
       "<table border=\"1\" class=\"dataframe\">\n",
       "  <thead>\n",
       "    <tr>\n",
       "      <th></th>\n",
       "      <th colspan=\"8\" halign=\"left\">usd_pledged</th>\n",
       "    </tr>\n",
       "    <tr>\n",
       "      <th></th>\n",
       "      <th>count</th>\n",
       "      <th>mean</th>\n",
       "      <th>std</th>\n",
       "      <th>min</th>\n",
       "      <th>25%</th>\n",
       "      <th>50%</th>\n",
       "      <th>75%</th>\n",
       "      <th>max</th>\n",
       "    </tr>\n",
       "    <tr>\n",
       "      <th>category1</th>\n",
       "      <th></th>\n",
       "      <th></th>\n",
       "      <th></th>\n",
       "      <th></th>\n",
       "      <th></th>\n",
       "      <th></th>\n",
       "      <th></th>\n",
       "      <th></th>\n",
       "    </tr>\n",
       "  </thead>\n",
       "  <tbody>\n",
       "    <tr>\n",
       "      <th>art</th>\n",
       "      <td>4760.0</td>\n",
       "      <td>3042.986386</td>\n",
       "      <td>22210.814856</td>\n",
       "      <td>0.0</td>\n",
       "      <td>28.057971</td>\n",
       "      <td>419.100118</td>\n",
       "      <td>2211.500000</td>\n",
       "      <td>1365105.45</td>\n",
       "    </tr>\n",
       "    <tr>\n",
       "      <th>comics</th>\n",
       "      <td>1317.0</td>\n",
       "      <td>7879.523307</td>\n",
       "      <td>28808.324656</td>\n",
       "      <td>0.0</td>\n",
       "      <td>325.000000</td>\n",
       "      <td>1690.000000</td>\n",
       "      <td>5709.000000</td>\n",
       "      <td>665725.94</td>\n",
       "    </tr>\n",
       "    <tr>\n",
       "      <th>crafts</th>\n",
       "      <td>957.0</td>\n",
       "      <td>1297.015515</td>\n",
       "      <td>5327.262964</td>\n",
       "      <td>0.0</td>\n",
       "      <td>1.000000</td>\n",
       "      <td>59.529214</td>\n",
       "      <td>523.000000</td>\n",
       "      <td>86207.00</td>\n",
       "    </tr>\n",
       "    <tr>\n",
       "      <th>dance</th>\n",
       "      <td>357.0</td>\n",
       "      <td>3064.782536</td>\n",
       "      <td>4722.557328</td>\n",
       "      <td>0.0</td>\n",
       "      <td>172.000000</td>\n",
       "      <td>1469.400933</td>\n",
       "      <td>4154.000000</td>\n",
       "      <td>46270.09</td>\n",
       "    </tr>\n",
       "    <tr>\n",
       "      <th>design</th>\n",
       "      <td>2097.0</td>\n",
       "      <td>44715.658122</td>\n",
       "      <td>374885.522046</td>\n",
       "      <td>0.0</td>\n",
       "      <td>565.000000</td>\n",
       "      <td>5230.000000</td>\n",
       "      <td>23569.284659</td>\n",
       "      <td>13285226.36</td>\n",
       "    </tr>\n",
       "    <tr>\n",
       "      <th>fashion</th>\n",
       "      <td>2736.0</td>\n",
       "      <td>6732.499053</td>\n",
       "      <td>31047.170879</td>\n",
       "      <td>0.0</td>\n",
       "      <td>4.000000</td>\n",
       "      <td>208.500000</td>\n",
       "      <td>3001.000000</td>\n",
       "      <td>654557.00</td>\n",
       "    </tr>\n",
       "    <tr>\n",
       "      <th>film</th>\n",
       "      <td>7952.0</td>\n",
       "      <td>8248.146472</td>\n",
       "      <td>68354.262348</td>\n",
       "      <td>0.0</td>\n",
       "      <td>76.000000</td>\n",
       "      <td>1505.500000</td>\n",
       "      <td>6213.940000</td>\n",
       "      <td>5702153.38</td>\n",
       "    </tr>\n",
       "    <tr>\n",
       "      <th>food</th>\n",
       "      <td>3156.0</td>\n",
       "      <td>3807.838668</td>\n",
       "      <td>11059.899267</td>\n",
       "      <td>0.0</td>\n",
       "      <td>2.000000</td>\n",
       "      <td>110.558560</td>\n",
       "      <td>2113.750000</td>\n",
       "      <td>255669.50</td>\n",
       "    </tr>\n",
       "    <tr>\n",
       "      <th>games</th>\n",
       "      <td>3710.0</td>\n",
       "      <td>29984.092931</td>\n",
       "      <td>158717.968874</td>\n",
       "      <td>0.0</td>\n",
       "      <td>204.040709</td>\n",
       "      <td>3143.687291</td>\n",
       "      <td>15487.798596</td>\n",
       "      <td>6333295.77</td>\n",
       "    </tr>\n",
       "    <tr>\n",
       "      <th>journalism</th>\n",
       "      <td>713.0</td>\n",
       "      <td>2405.135173</td>\n",
       "      <td>11214.772674</td>\n",
       "      <td>0.0</td>\n",
       "      <td>0.000000</td>\n",
       "      <td>26.000000</td>\n",
       "      <td>457.740276</td>\n",
       "      <td>171755.09</td>\n",
       "    </tr>\n",
       "    <tr>\n",
       "      <th>music</th>\n",
       "      <td>8263.0</td>\n",
       "      <td>3728.466506</td>\n",
       "      <td>9043.800899</td>\n",
       "      <td>0.0</td>\n",
       "      <td>65.000000</td>\n",
       "      <td>1194.516738</td>\n",
       "      <td>4352.500000</td>\n",
       "      <td>326593.51</td>\n",
       "    </tr>\n",
       "    <tr>\n",
       "      <th>photography</th>\n",
       "      <td>1194.0</td>\n",
       "      <td>2820.270929</td>\n",
       "      <td>8143.555916</td>\n",
       "      <td>0.0</td>\n",
       "      <td>1.000000</td>\n",
       "      <td>101.000000</td>\n",
       "      <td>1355.500000</td>\n",
       "      <td>107193.35</td>\n",
       "    </tr>\n",
       "    <tr>\n",
       "      <th>publishing</th>\n",
       "      <td>5933.0</td>\n",
       "      <td>4338.948681</td>\n",
       "      <td>15139.939431</td>\n",
       "      <td>0.0</td>\n",
       "      <td>51.000000</td>\n",
       "      <td>725.000000</td>\n",
       "      <td>3775.000000</td>\n",
       "      <td>613251.44</td>\n",
       "    </tr>\n",
       "    <tr>\n",
       "      <th>technology</th>\n",
       "      <td>5736.0</td>\n",
       "      <td>23268.256793</td>\n",
       "      <td>124940.549155</td>\n",
       "      <td>0.0</td>\n",
       "      <td>10.000000</td>\n",
       "      <td>313.150131</td>\n",
       "      <td>5289.250000</td>\n",
       "      <td>3401361.08</td>\n",
       "    </tr>\n",
       "    <tr>\n",
       "      <th>theater</th>\n",
       "      <td>932.0</td>\n",
       "      <td>4008.423815</td>\n",
       "      <td>10712.375886</td>\n",
       "      <td>0.0</td>\n",
       "      <td>131.619903</td>\n",
       "      <td>1233.195431</td>\n",
       "      <td>3894.891598</td>\n",
       "      <td>169985.91</td>\n",
       "    </tr>\n",
       "  </tbody>\n",
       "</table>\n",
       "</div>"
      ],
      "text/plain": [
       "            usd_pledged                                                \\\n",
       "                  count          mean            std  min         25%   \n",
       "category1                                                               \n",
       "art              4760.0   3042.986386   22210.814856  0.0   28.057971   \n",
       "comics           1317.0   7879.523307   28808.324656  0.0  325.000000   \n",
       "crafts            957.0   1297.015515    5327.262964  0.0    1.000000   \n",
       "dance             357.0   3064.782536    4722.557328  0.0  172.000000   \n",
       "design           2097.0  44715.658122  374885.522046  0.0  565.000000   \n",
       "fashion          2736.0   6732.499053   31047.170879  0.0    4.000000   \n",
       "film             7952.0   8248.146472   68354.262348  0.0   76.000000   \n",
       "food             3156.0   3807.838668   11059.899267  0.0    2.000000   \n",
       "games            3710.0  29984.092931  158717.968874  0.0  204.040709   \n",
       "journalism        713.0   2405.135173   11214.772674  0.0    0.000000   \n",
       "music            8263.0   3728.466506    9043.800899  0.0   65.000000   \n",
       "photography      1194.0   2820.270929    8143.555916  0.0    1.000000   \n",
       "publishing       5933.0   4338.948681   15139.939431  0.0   51.000000   \n",
       "technology       5736.0  23268.256793  124940.549155  0.0   10.000000   \n",
       "theater           932.0   4008.423815   10712.375886  0.0  131.619903   \n",
       "\n",
       "                                                     \n",
       "                     50%           75%          max  \n",
       "category1                                            \n",
       "art           419.100118   2211.500000   1365105.45  \n",
       "comics       1690.000000   5709.000000    665725.94  \n",
       "crafts         59.529214    523.000000     86207.00  \n",
       "dance        1469.400933   4154.000000     46270.09  \n",
       "design       5230.000000  23569.284659  13285226.36  \n",
       "fashion       208.500000   3001.000000    654557.00  \n",
       "film         1505.500000   6213.940000   5702153.38  \n",
       "food          110.558560   2113.750000    255669.50  \n",
       "games        3143.687291  15487.798596   6333295.77  \n",
       "journalism     26.000000    457.740276    171755.09  \n",
       "music        1194.516738   4352.500000    326593.51  \n",
       "photography   101.000000   1355.500000    107193.35  \n",
       "publishing    725.000000   3775.000000    613251.44  \n",
       "technology    313.150131   5289.250000   3401361.08  \n",
       "theater      1233.195431   3894.891598    169985.91  "
      ]
     },
     "execution_count": 273,
     "metadata": {},
     "output_type": "execute_result"
    }
   ],
   "source": [
    "pledged_cat=df[['usd_pledged','category1']]\n",
    "pledged_cat_stat=pledged_cat.groupby('category1').describe()\n",
    "pledged_cat_stat"
   ]
  },
  {
   "cell_type": "markdown",
   "metadata": {},
   "source": [
    "# EDA"
   ]
  },
  {
   "cell_type": "code",
   "execution_count": 274,
   "metadata": {
    "scrolled": false
   },
   "outputs": [
    {
     "data": {
      "text/plain": [
       "<matplotlib.text.Text at 0x1c166afe10>"
      ]
     },
     "execution_count": 274,
     "metadata": {},
     "output_type": "execute_result"
    },
    {
     "data": {
      "image/png": "[encoded data removed]",
      "text/plain": [
       "<matplotlib.figure.Figure at 0x1c20c91d90>"
      ]
     },
     "metadata": {},
     "output_type": "display_data"
    }
   ],
   "source": [
    "kickstarter_bycat_dollar=df.groupby(['category1'])[['kickstarter_cut','goal']].agg(['mean','count','sum'])\n",
    "kickstarter_bycat_dollar['kickstarter_cut'].sort_values(by=['sum'],ascending=[False])['sum'].plot(kind='bar',color='blue')\n",
    "ylabel('Kickstarter\\'s cut in $100M')"
   ]
  },
  {
   "cell_type": "markdown",
   "metadata": {},
   "source": [
    "Kickstarter may be interested in which categories bring in the most money for them, it looks like technology, games, and design bring in the most for kickstarter. This may be due to the number of projects in these categories though."
   ]
  },
  {
   "cell_type": "code",
   "execution_count": 275,
   "metadata": {},
   "outputs": [
    {
     "data": {
      "text/plain": [
       "<matplotlib.axes._subplots.AxesSubplot at 0x1c20ccef50>"
      ]
     },
     "execution_count": 275,
     "metadata": {},
     "output_type": "execute_result"
    },
    {
     "data": {
      "image/png": "[encoded data removed]",
      "text/plain": [
       "<matplotlib.figure.Figure at 0x1c20281dd0>"
      ]
     },
     "metadata": {},
     "output_type": "display_data"
    }
   ],
   "source": [
    "kickstarter_bycat_dollar=df.groupby(['category1'])[['kickstarter_cut','goal','backers_count']].agg(['mean','count','sum'])\n",
    "(kickstarter_bycat_dollar['kickstarter_cut']['sum']/kickstarter_bycat_dollar['backers_count']['sum']).sort_values(ascending=[False]).plot(kind='bar',color='blue')\n"
   ]
  },
  {
   "cell_type": "markdown",
   "metadata": {},
   "source": [
    "This chart takes into account the number of backers per category, this could be used to get a sense of which categories backers support more than others. In contrast to the previous graph games is no longer in the top three which indicates that games backers don’t tend to support projects more than technology and design backers. \n"
   ]
  },
  {
   "cell_type": "markdown",
   "metadata": {},
   "source": [
    "#### Interactions"
   ]
  },
  {
   "cell_type": "code",
   "execution_count": 276,
   "metadata": {
    "collapsed": true
   },
   "outputs": [],
   "source": [
    "kickstarter_bycat_dollar=df.groupby(['category1'])[['kickstarter_cut','usd_pledged','backers_count']].agg(['mean','count','sum'])\n",
    "kickstarter_bycat_success=df.groupby(['category1','status'])[['usd_pledged']].agg(['sum'])\n",
    "q=kickstarter_bycat_success.unstack()['usd_pledged']['sum']\n"
   ]
  },
  {
   "cell_type": "code",
   "execution_count": 277,
   "metadata": {},
   "outputs": [
    {
     "data": {
      "text/plain": [
       "<matplotlib.axes._subplots.AxesSubplot at 0x1c165b50d0>"
      ]
     },
     "execution_count": 277,
     "metadata": {},
     "output_type": "execute_result"
    },
    {
     "data": {
      "image/png": "[encoded data removed]",
      "text/plain": [
       "<matplotlib.figure.Figure at 0x1c205d4650>"
      ]
     },
     "metadata": {},
     "output_type": "display_data"
    }
   ],
   "source": [
    "kickstarter_bycat_success=df.groupby(['category1','status'])[['usd_pledged']].agg(['sum'])\n",
    "kickstarter_bycat_success=kickstarter_bycat_success.unstack()['usd_pledged']['sum']\n",
    "kickstarter_bycat_success['o']=kickstarter_bycat_success[0]/(kickstarter_bycat_success[0]+kickstarter_bycat_success[1])  \n",
    "kickstarter_bycat_success['l']=kickstarter_bycat_success[1]/(kickstarter_bycat_success[0]+kickstarter_bycat_success[1])\n",
    "kickstarter_bycat_success['total_funded']=kickstarter_bycat_success['o']+kickstarter_bycat_success['l']\n",
    "kickstarter_bycat_success=kickstarter_bycat_success.sort_values(by=['o'],ascending=False)\n",
    "kickstarter_bycat_success[['o','l']].plot.bar(stacked=True)\n"
   ]
  },
  {
   "cell_type": "markdown",
   "metadata": {},
   "source": [
    "There does seem to be a monotonic relationship between category and a project being successfully funded. While these categories aren’t adjusted by the number of projects per category or by goal, it does look like photography and food are more successful on average than games and design. "
   ]
  },
  {
   "cell_type": "code",
   "execution_count": 278,
   "metadata": {},
   "outputs": [],
   "source": [
    "kickstarter_bycat_dollar=df.groupby(['category1'])[['kickstarter_cut','usd_pledged','backers_count']].agg(['mean','count','sum'])\n"
   ]
  },
  {
   "cell_type": "code",
   "execution_count": 279,
   "metadata": {
    "scrolled": true
   },
   "outputs": [
    {
     "data": {
      "text/plain": [
       "<matplotlib.axes._subplots.AxesSubplot at 0x1c165ad290>"
      ]
     },
     "execution_count": 279,
     "metadata": {},
     "output_type": "execute_result"
    },
    {
     "data": {
      "image/png": "[encoded data removed]",
      "text/plain": [
       "<matplotlib.figure.Figure at 0x1c19399e50>"
      ]
     },
     "metadata": {},
     "output_type": "display_data"
    }
   ],
   "source": [
    "kickstarter_bycat_dollar=df.groupby(['category1','staff_pick'])['name'].agg(['count'])\n",
    "kickstarter_staff=kickstarter_bycat_dollar.unstack()['count']\n",
    "kickstarter_staff['total_staff']=kickstarter_staff[False]+kickstarter_staff[True]\n",
    "kickstarter_staff['F']=kickstarter_staff[False]/(kickstarter_staff[False]+kickstarter_staff[True])\n",
    "kickstarter_staff['T']=kickstarter_staff[True]/(kickstarter_staff[False]+kickstarter_staff[True])\n",
    "kickstarter_staff=kickstarter_staff.sort_values(by=['T'],ascending=False)\n",
    "kickstarter_staff[['F','T']].plot.bar(stacked=True)\n"
   ]
  },
  {
   "cell_type": "markdown",
   "metadata": {},
   "source": [
    "This graph was to get a sense of which categories the staff of kickstarter preferred. "
   ]
  },
  {
   "cell_type": "markdown",
   "metadata": {},
   "source": [
    "# Modeling "
   ]
  },
  {
   "cell_type": "markdown",
   "metadata": {},
   "source": [
    "### Logistic"
   ]
  },
  {
   "cell_type": "code",
   "execution_count": 280,
   "metadata": {
    "collapsed": true
   },
   "outputs": [],
   "source": [
    "y, X = dmatrices('usd_pledged ~ time_bw_create_launch+projectlength_days+backers_count+staff_pick+category1+country+state+subcategory', data=df, return_type='dataframe')\n"
   ]
  },
  {
   "cell_type": "code",
   "execution_count": 322,
   "metadata": {
    "scrolled": false
   },
   "outputs": [
    {
     "data": {
      "text/plain": [
       "0.24285903345163473"
      ]
     },
     "execution_count": 322,
     "metadata": {},
     "output_type": "execute_result"
    }
   ],
   "source": [
    "model = sm.OLS(y, X)       # Set up the model\n",
    "result = model.fit()       # Fit model (find the intercept and slopes)\n",
    "result.rsquared_adj"
   ]
  },
  {
   "cell_type": "code",
   "execution_count": 326,
   "metadata": {},
   "outputs": [],
   "source": [
    "params=result.params"
   ]
  },
  {
   "cell_type": "code",
   "execution_count": 327,
   "metadata": {},
   "outputs": [
    {
     "data": {
      "text/plain": [
       "country[T.AU]                      5.011471e-01\n",
       "country[T.CA]                      4.999031e-01\n",
       "country[T.DE]                      3.400942e-01\n",
       "country[T.DK]                      5.552055e-01\n",
       "country[T.IE]                      4.190188e-01\n",
       "country[T.NL]                      3.813417e-01\n",
       "country[T.NO]                      6.919579e-01\n",
       "country[T.SE]                      4.929420e-01\n",
       "country[T.US]                      5.526744e-01\n",
       "state[T.Bali]                      4.813191e-01\n",
       "state[T.Banaadir]                  6.876046e-09\n",
       "state[T.Basilicata]                1.019490e+00\n",
       "state[T.Berlin]                    1.404136e-01\n",
       "state[T.Cairo]                     6.394200e-01\n",
       "state[T.Canterbury]                3.815435e-01\n",
       "state[T.Central]                   5.139138e-01\n",
       "state[T.FL]                       -1.141014e-01\n",
       "state[T.Guanajuato]                5.064777e-01\n",
       "state[T.Guerrero]                  1.080405e+00\n",
       "state[T.Karnataka]                 4.835797e-01\n",
       "state[T.Kranj]                     8.497130e-01\n",
       "state[T.Lorraine]                  7.523046e-01\n",
       "state[T.Luxemburg]                 8.536090e-01\n",
       "state[T.MS]                       -1.633061e-01\n",
       "state[T.Madrid]                    1.811227e-01\n",
       "state[T.Managua]                   6.901423e-01\n",
       "state[T.Masovian]                  3.147889e-01\n",
       "state[T.Mbale]                     6.006918e-01\n",
       "state[T.Midtjylland]               2.754730e-01\n",
       "state[T.Morelos]                   5.895058e-01\n",
       "                                       ...     \n",
       "subcategory[T.makerspaces]        -2.182992e-01\n",
       "subcategory[T.mixed%20media]      -5.829392e-02\n",
       "subcategory[T.mobile%20games]     -2.877138e-01\n",
       "subcategory[T.musical]            -2.337766e-01\n",
       "subcategory[T.nature]             -9.131972e-02\n",
       "subcategory[T.people]             -8.202435e-02\n",
       "subcategory[T.performances]        2.149923e-01\n",
       "subcategory[T.pet%20fashion]       1.301572e-01\n",
       "subcategory[T.photo]              -3.316045e-01\n",
       "subcategory[T.photobooks]          8.547997e-02\n",
       "subcategory[T.places]             -1.218548e-01\n",
       "subcategory[T.pottery]             3.314658e-01\n",
       "subcategory[T.print]              -2.720605e-01\n",
       "subcategory[T.product%20design]    4.775262e-01\n",
       "subcategory[T.public%20art]        1.351175e-01\n",
       "subcategory[T.ready]              -1.076080e-01\n",
       "subcategory[T.restaurants]        -2.444093e-01\n",
       "subcategory[T.rock]                4.556481e-01\n",
       "subcategory[T.software]           -3.288765e-01\n",
       "subcategory[T.tabletop%20games]    5.762951e-01\n",
       "subcategory[T.textiles]           -1.198011e-01\n",
       "subcategory[T.translations]       -2.669312e-01\n",
       "subcategory[T.typography]          2.074757e-01\n",
       "subcategory[T.video]              -3.936526e-01\n",
       "subcategory[T.wearables]          -1.472309e-01\n",
       "subcategory[T.web]                -3.581323e-01\n",
       "subcategory[T.woodworking]        -7.964358e-02\n",
       "subcategory[T.young%20adult]      -2.398133e-01\n",
       "projectlength_days                -4.320292e-03\n",
       "goal                              -1.589172e-08\n",
       "Length: 107, dtype: float64"
      ]
     },
     "execution_count": 327,
     "metadata": {},
     "output_type": "execute_result"
    }
   ],
   "source": [
    "p_values=result.pvalues\n",
    "params[p_values<=.05]"
   ]
  },
  {
   "cell_type": "code",
   "execution_count": 283,
   "metadata": {
    "collapsed": true
   },
   "outputs": [],
   "source": [
    "formula = 'status ~ 0+projectlength_days+backers_count+staff_pick+category1+country+state+subcategory'\n",
    "Y, X = dmatrices(formula, df, return_type='dataframe')\n",
    "y=Y['status'].values"
   ]
  },
  {
   "cell_type": "code",
   "execution_count": 284,
   "metadata": {
    "collapsed": true
   },
   "outputs": [],
   "source": [
    "X_train, X_test, y_train, y_test = train_test_split(X, y, test_size=0.3, random_state=1)\n"
   ]
  },
  {
   "cell_type": "code",
   "execution_count": 285,
   "metadata": {
    "collapsed": true
   },
   "outputs": [],
   "source": [
    "model = LogisticRegression()\n",
    "result = model.fit(X_train, y_train)\n"
   ]
  },
  {
   "cell_type": "code",
   "execution_count": 286,
   "metadata": {},
   "outputs": [
    {
     "name": "stdout",
     "output_type": "stream",
     "text": [
      "Training Accuracy: 0.840278026585\n",
      "Test Accuracy: 0.837164590822\n",
      "Recall 0.700583279326\n"
     ]
    }
   ],
   "source": [
    "prediction_train = model.predict(X_train)\n",
    "prediction = model.predict(X_test)\n",
    "print 'Training Accuracy:',metrics.accuracy_score(y_train, prediction_train)\n",
    "print 'Test Accuracy:',metrics.accuracy_score(y_test, prediction)\n",
    "print 'Recall',metrics.recall_score(y_test,prediction)"
   ]
  },
  {
   "cell_type": "code",
   "execution_count": 287,
   "metadata": {},
   "outputs": [
    {
     "data": {
      "text/plain": [
       "array([[6772,  562],\n",
       "       [1386, 3243]])"
      ]
     },
     "execution_count": 287,
     "metadata": {},
     "output_type": "execute_result"
    }
   ],
   "source": [
    "confusion_matrix(y_test,prediction)"
   ]
  },
  {
   "cell_type": "code",
   "execution_count": 288,
   "metadata": {},
   "outputs": [
    {
     "name": "stdout",
     "output_type": "stream",
     "text": [
      "Baseline accuracy = 0.61305692552\n"
     ]
    }
   ],
   "source": [
    "negative_examples_in_test = len(y_test[y_test==0])\n",
    "total_examples_in_test = len(y_test)\n",
    "\n",
    "print 'Baseline accuracy =', negative_examples_in_test * 1.0 / total_examples_in_test"
   ]
  },
  {
   "cell_type": "code",
   "execution_count": 289,
   "metadata": {},
   "outputs": [
    {
     "data": {
      "text/plain": [
       "country[T.GB]                   -1.881956\n",
       "subcategory[T.mobile%20games]   -1.221055\n",
       "subcategory[T.hip]              -1.068824\n",
       "subcategory[T.architecture]     -0.951407\n",
       "category1[T.technology]         -0.870659\n",
       "dtype: float64"
      ]
     },
     "execution_count": 289,
     "metadata": {},
     "output_type": "execute_result"
    }
   ],
   "source": [
    "weights = Series(model.coef_[0],\n",
    "                 index=X.columns.values)\n",
    "weights.sort_values()[:5]"
   ]
  },
  {
   "cell_type": "code",
   "execution_count": 290,
   "metadata": {},
   "outputs": [
    {
     "data": {
      "text/plain": [
       "subcategory[T.tabletop%20games]    3.010719\n",
       "subcategory[T.product%20design]    1.897134\n",
       "subcategory[T.indie%20rock]        1.107076\n",
       "country[T.SE]                      1.084520\n",
       "subcategory[T.rock]                1.057477\n",
       "dtype: float64"
      ]
     },
     "execution_count": 290,
     "metadata": {},
     "output_type": "execute_result"
    }
   ],
   "source": [
    "weights.sort_values(ascending=False)[:5]"
   ]
  },
  {
   "cell_type": "markdown",
   "metadata": {},
   "source": [
    "### Logistic (Creators View)"
   ]
  },
  {
   "cell_type": "markdown",
   "metadata": {},
   "source": [
    "Unfortunately the variables in the logistic regression performed in the previous section aren’t always up to the creator of the kickstarter. To see if we can better predict the success of a kickstarter only variables in the control of kickstarter were considered. "
   ]
  },
  {
   "cell_type": "code",
   "execution_count": 291,
   "metadata": {},
   "outputs": [],
   "source": [
    "formula = 'status ~ 0+projectlength_days+goal+category1+country+state+subcategory'\n",
    "Y, X = dmatrices(formula, df, return_type='dataframe')\n",
    "y=Y['status'].values"
   ]
  },
  {
   "cell_type": "code",
   "execution_count": 292,
   "metadata": {
    "collapsed": true
   },
   "outputs": [],
   "source": [
    "X_train, X_test, y_train, y_test = train_test_split(X, y, test_size=0.3, random_state=1)\n"
   ]
  },
  {
   "cell_type": "code",
   "execution_count": 293,
   "metadata": {
    "collapsed": true
   },
   "outputs": [],
   "source": [
    "model = LogisticRegression()\n",
    "result = model.fit(X_train, y_train)\n"
   ]
  },
  {
   "cell_type": "code",
   "execution_count": 294,
   "metadata": {},
   "outputs": [
    {
     "name": "stdout",
     "output_type": "stream",
     "text": [
      "Training Accuracy: 0.610189531009\n",
      "Test Accuracy: 0.61305692552\n"
     ]
    }
   ],
   "source": [
    "prediction_train = model.predict(X_train)\n",
    "prediction = model.predict(X_test)\n",
    "print 'Training Accuracy:',metrics.accuracy_score(y_train, prediction_train)\n",
    "print 'Test Accuracy:',metrics.accuracy_score(y_test, prediction)"
   ]
  },
  {
   "cell_type": "markdown",
   "metadata": {},
   "source": [
    "There was a significant decline in model accuracy, which is essentially the base line. This indicated that a logistic regression might not be able to predict the success of a project."
   ]
  },
  {
   "cell_type": "code",
   "execution_count": 295,
   "metadata": {},
   "outputs": [
    {
     "name": "stdout",
     "output_type": "stream",
     "text": [
      "negatively correlated variables\n"
     ]
    },
    {
     "data": {
      "text/plain": [
       "projectlength_days      -0.008336\n",
       "country[T.GB]           -0.000147\n",
       "state[T.England]        -0.000126\n",
       "category1[technology]   -0.000106\n",
       "category1[food]         -0.000079\n",
       "dtype: float64"
      ]
     },
     "execution_count": 295,
     "metadata": {},
     "output_type": "execute_result"
    }
   ],
   "source": [
    "model.coef_\n",
    "weights = Series(model.coef_[0],\n",
    "                 index=X.columns.values)\n",
    "print 'negatively correlated variables'\n",
    "weights.sort_values()[:5]"
   ]
  },
  {
   "cell_type": "code",
   "execution_count": 296,
   "metadata": {},
   "outputs": [
    {
     "name": "stdout",
     "output_type": "stream",
     "text": [
      "Positively correlated variables\n"
     ]
    },
    {
     "data": {
      "text/plain": [
       "subcategory[T.tabletop%20games]    0.000091\n",
       "subcategory[T.product%20design]    0.000085\n",
       "category1[music]                   0.000073\n",
       "category1[design]                  0.000071\n",
       "category1[games]                   0.000066\n",
       "dtype: float64"
      ]
     },
     "execution_count": 296,
     "metadata": {},
     "output_type": "execute_result"
    }
   ],
   "source": [
    "print 'Positively correlated variables'\n",
    "weights.sort_values(ascending=False)[:5]"
   ]
  },
  {
   "cell_type": "markdown",
   "metadata": {},
   "source": [
    "### Random Forest"
   ]
  },
  {
   "cell_type": "markdown",
   "metadata": {},
   "source": [
    "Because the previous logistic regression performed poorly, two other modeling techniques were used to see if there could be an improvement in accuracy"
   ]
  },
  {
   "cell_type": "code",
   "execution_count": 297,
   "metadata": {
    "scrolled": true
   },
   "outputs": [
    {
     "name": "stdout",
     "output_type": "stream",
     "text": [
      "Time Taken: 7.26082086563\n"
     ]
    }
   ],
   "source": [
    "t0=time()\n",
    "parameters = {'n_estimators':sp_randint(50, 500), 'max_depth':sp_randint(10, 50),'criterion':('gini','entropy')}\n",
    "RF =ensemble.RandomForestClassifier()\n",
    "random_search = RandomizedSearchCV(RF, param_distributions=parameters,n_iter=20,n_jobs=-1)\n",
    "result=random_search.fit(X_train,y_train)\n",
    "print 'Time Taken:',(time()-t0)/60.0"
   ]
  },
  {
   "cell_type": "code",
   "execution_count": 298,
   "metadata": {},
   "outputs": [
    {
     "name": "stdout",
     "output_type": "stream",
     "text": [
      "Best Model:\n"
     ]
    },
    {
     "data": {
      "text/plain": [
       "RandomForestClassifier(bootstrap=True, class_weight=None, criterion='gini',\n",
       "            max_depth=33, max_features='auto', max_leaf_nodes=None,\n",
       "            min_impurity_decrease=0.0, min_impurity_split=None,\n",
       "            min_samples_leaf=1, min_samples_split=2,\n",
       "            min_weight_fraction_leaf=0.0, n_estimators=348, n_jobs=1,\n",
       "            oob_score=False, random_state=None, verbose=0,\n",
       "            warm_start=False)"
      ]
     },
     "execution_count": 298,
     "metadata": {},
     "output_type": "execute_result"
    }
   ],
   "source": [
    "print 'Best Model:'\n",
    "result.best_estimator_"
   ]
  },
  {
   "cell_type": "code",
   "execution_count": 299,
   "metadata": {
    "collapsed": true
   },
   "outputs": [],
   "source": [
    "RF =ensemble.RandomForestClassifier(n_estimators=350,criterion='gini',max_depth=33,n_jobs=-1)\n",
    "result=RF.fit(X_train,y_train)"
   ]
  },
  {
   "cell_type": "code",
   "execution_count": 300,
   "metadata": {},
   "outputs": [
    {
     "name": "stdout",
     "output_type": "stream",
     "text": [
      "Feature                                Importance\n",
      "goal                                  0.221185\n",
      "projectlength_days                    0.155069\n",
      "subcategory[T.tabletop%20games]       0.0593052\n",
      "subcategory[T.product%20design]       0.0428296\n",
      "country[T.GB]                         0.0252844\n",
      "country[T.US]                         0.019839\n",
      "state[T.England]                      0.0180187\n",
      "\n"
     ]
    }
   ],
   "source": [
    "from tabulate import tabulate\n",
    "headers = [\"Feature\", \"Importance\"]\n",
    "importance_values = sorted(zip(X_train.columns, result.feature_importances_), key=lambda x: x[1] * -1)\n",
    "print(tabulate(importance_values, headers, tablefmt=\"plain\")[:383])"
   ]
  },
  {
   "cell_type": "code",
   "execution_count": 301,
   "metadata": {},
   "outputs": [
    {
     "name": "stdout",
     "output_type": "stream",
     "text": [
      "Training Accuracy: 0.841711153309\n",
      "Test Accuracy: 0.733846025245\n",
      "Recall Score 0.49362713329\n"
     ]
    }
   ],
   "source": [
    "prediction_train = result.predict(X_train)\n",
    "prediction = result.predict(X_test)\n",
    "print 'Training Accuracy:',metrics.accuracy_score(y_train, prediction_train)\n",
    "print 'Test Accuracy:',metrics.accuracy_score(y_test, prediction)\n",
    "print 'Recall Score',metrics.recall_score(y_test,prediction)"
   ]
  },
  {
   "cell_type": "markdown",
   "metadata": {},
   "source": [
    "There was a significant improvement in accuracy using a 'creators' perspective. However the model was only able to predict 50% of the positive class."
   ]
  },
  {
   "cell_type": "code",
   "execution_count": 302,
   "metadata": {},
   "outputs": [
    {
     "data": {
      "text/plain": [
       "array([[6494,  840],\n",
       "       [2344, 2285]])"
      ]
     },
     "execution_count": 302,
     "metadata": {},
     "output_type": "execute_result"
    }
   ],
   "source": [
    "confusion_matrix(y_true=y_test,y_pred=prediction)"
   ]
  },
  {
   "cell_type": "markdown",
   "metadata": {},
   "source": [
    "### Boosting"
   ]
  },
  {
   "cell_type": "markdown",
   "metadata": {},
   "source": [
    "##### XGBoost needs specific pre-processing on column names"
   ]
  },
  {
   "cell_type": "code",
   "execution_count": 303,
   "metadata": {},
   "outputs": [],
   "source": [
    "# create a list of numbers from 0 to the length of the columns names\n",
    "header_list=pd.DataFrame((range(0,len(list(X_train)))))\n",
    "header_list=header_list.astype(str)\n",
    "header_list=header_list.transpose()"
   ]
  },
  {
   "cell_type": "code",
   "execution_count": 304,
   "metadata": {
    "scrolled": true
   },
   "outputs": [],
   "source": [
    "header=header_list.iloc[0]"
   ]
  },
  {
   "cell_type": "code",
   "execution_count": 305,
   "metadata": {
    "collapsed": true
   },
   "outputs": [],
   "source": [
    "from xgboost.sklearn import XGBClassifier"
   ]
  },
  {
   "cell_type": "code",
   "execution_count": 306,
   "metadata": {},
   "outputs": [],
   "source": [
    "# Save the Column names to combine later\n",
    "column_names=pd.DataFrame(X_train.columns).transpose()\n",
    "column_names=column_names.iloc[0]"
   ]
  },
  {
   "cell_type": "code",
   "execution_count": 307,
   "metadata": {},
   "outputs": [],
   "source": [
    "# Reset the column names\n",
    "X_train.columns=header\n",
    "X_test.columns=header"
   ]
  },
  {
   "cell_type": "markdown",
   "metadata": {},
   "source": [
    "#### Train the model"
   ]
  },
  {
   "cell_type": "code",
   "execution_count": 308,
   "metadata": {},
   "outputs": [
    {
     "name": "stdout",
     "output_type": "stream",
     "text": [
      "Time Taken: 16.936458683\n"
     ]
    }
   ],
   "source": [
    "t0=time()\n",
    "parameters = {'n_estimators':sp_randint(50,500),'max_depth':sp_randint(2,15)}\n",
    "xgb=XGBClassifier(objective='binary:logistic')\n",
    "random_search2 = RandomizedSearchCV(xgb, param_distributions=parameters,n_iter=10,n_jobs=-1)\n",
    "result2=random_search2.fit(X_train,y_train.astype(int))\n",
    "print 'Time Taken:',(time()-t0)/60.0"
   ]
  },
  {
   "cell_type": "code",
   "execution_count": 309,
   "metadata": {},
   "outputs": [
    {
     "name": "stdout",
     "output_type": "stream",
     "text": [
      "Best Model:\n"
     ]
    },
    {
     "data": {
      "text/plain": [
       "XGBClassifier(base_score=0.5, colsample_bylevel=1, colsample_bytree=1,\n",
       "       gamma=0, learning_rate=0.1, max_delta_step=0, max_depth=2,\n",
       "       min_child_weight=1, missing=None, n_estimators=486, nthread=-1,\n",
       "       objective='binary:logistic', reg_alpha=0, reg_lambda=1,\n",
       "       scale_pos_weight=1, seed=0, silent=True, subsample=1)"
      ]
     },
     "execution_count": 309,
     "metadata": {},
     "output_type": "execute_result"
    }
   ],
   "source": [
    "print 'Best Model:'\n",
    "result2.best_estimator_"
   ]
  },
  {
   "cell_type": "code",
   "execution_count": 310,
   "metadata": {},
   "outputs": [],
   "source": [
    "GB =XGBClassifier(n_estimators=490,objective='binary:logistic',max_depth=2)\n",
    "result_GB=GB.fit(X_train,y_train)"
   ]
  },
  {
   "cell_type": "code",
   "execution_count": 311,
   "metadata": {},
   "outputs": [
    {
     "name": "stdout",
     "output_type": "stream",
     "text": [
      "Feature                                Importance\n",
      "goal                                  0.276596\n",
      "projectlength_days                    0.203515\n",
      "state[T.CA]                           0.0228955\n",
      "country[T.US]                         0.0222017\n",
      "country[T.GB]                         0.0191952\n",
      "state[T.NY]                           0.0148011\n",
      "subcategory[T.product%20design]       0.0117946\n",
      "\n"
     ]
    }
   ],
   "source": [
    "from tabulate import tabulate\n",
    "headers = [\"Feature\", \"Importance\"]\n",
    "importance_values = sorted(zip(column_names, result_GB.feature_importances_), key=lambda x: x[1] * -1)\n",
    "print(tabulate(importance_values, headers, tablefmt=\"plain\")[:384])"
   ]
  },
  {
   "cell_type": "code",
   "execution_count": 312,
   "metadata": {},
   "outputs": [
    {
     "name": "stdout",
     "output_type": "stream",
     "text": [
      "Training Accuracy: 0.76414316936\n",
      "Test Accuracy: 0.743375407506\n",
      "Recall Score: 0.576798444588\n"
     ]
    }
   ],
   "source": [
    "prediction_train_GB = result_GB.predict(X_train)\n",
    "prediction_GB = result_GB.predict(X_test)\n",
    "print 'Training Accuracy:',metrics.accuracy_score(y_train, prediction_train_GB)\n",
    "print 'Test Accuracy:',metrics.accuracy_score(y_test, prediction_GB)\n",
    "print 'Recall Score:',metrics.recall_score(y_test,prediction_GB)"
   ]
  },
  {
   "cell_type": "markdown",
   "metadata": {},
   "source": [
    "The XGBoost out performed both the Random Forest and logistic regression, with further hyper parameter tuning a better accuracy could be achieved"
   ]
  },
  {
   "cell_type": "code",
   "execution_count": 313,
   "metadata": {
    "scrolled": true
   },
   "outputs": [
    {
     "data": {
      "text/plain": [
       "array([[6223, 1111],\n",
       "       [1959, 2670]])"
      ]
     },
     "execution_count": 313,
     "metadata": {},
     "output_type": "execute_result"
    }
   ],
   "source": [
    "confusion_matrix(y_true=y_test,y_pred=prediction_GB)"
   ]
  },
  {
   "cell_type": "markdown",
   "metadata": {},
   "source": [
    "### Given more time/computational power Hyper-parameter tuning would be performed more robustly\n"
   ]
  },
  {
   "cell_type": "code",
   "execution_count": null,
   "metadata": {
    "collapsed": true
   },
   "outputs": [],
   "source": [
    "cv_repeat=RepeatedStratifiedKFold(n_splits=2, n_repeats=5, random_state=1)"
   ]
  },
  {
   "cell_type": "code",
   "execution_count": null,
   "metadata": {
    "collapsed": true
   },
   "outputs": [],
   "source": [
    "t0=time()\n",
    "parameters = {'n_estimators':sp_randint(50, 500), 'max_depth':sp_randint(10, 50),'criterion':('gini','entropy')}\n",
    "RF =ensemble.RandomForestClassifier()\n",
    "random_search = RandomizedSearchCV(RF, param_distributions=parameters,n_iter=10,cv=cv_repeat,n_jobs=-1)\n",
    "result=random_search.fit(X,y)\n",
    "print 'Time Taken:',time()-t0\n",
    "result.best_estimator_"
   ]
  },
  {
   "cell_type": "code",
   "execution_count": null,
   "metadata": {
    "collapsed": true
   },
   "outputs": [],
   "source": [
    "prediction_train = model.predict(X_train)\n",
    "prediction = model.predict(X_test)\n",
    "print 'Training Accuracy:',metrics.accuracy_score(y_train, prediction_train)\n",
    "print 'Test Accuracy:',metrics.accuracy_score(y_test, prediction)"
   ]
  }
 ],
 "metadata": {
  "kernelspec": {
   "display_name": "Python 2",
   "language": "python",
   "name": "python2"
  },
  "language_info": {
   "codemirror_mode": {
    "name": "ipython",
    "version": 2
   },
   "file_extension": ".py",
   "mimetype": "text/x-python",
   "name": "python",
   "nbconvert_exporter": "python",
   "pygments_lexer": "ipython2",
   "version": "2.7.13"
  }
 },
 "nbformat": 4,
 "nbformat_minor": 2
}
