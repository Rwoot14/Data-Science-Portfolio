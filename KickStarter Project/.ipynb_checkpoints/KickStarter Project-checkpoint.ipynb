{
 "cells": [
  {
   "cell_type": "code",
   "execution_count": 264,
   "metadata": {
    "scrolled": true
   },
   "outputs": [
    {
     "name": "stdout",
     "output_type": "stream",
     "text": [
      "Populating the interactive namespace from numpy and matplotlib\n"
     ]
    }
   ],
   "source": [
    "from pandas import Series, DataFrame\n",
    "import pandas as pd\n",
    "%pylab inline\n",
    "import statsmodels.api as sm\n",
    "from patsy import dmatrices\n",
    "from sklearn.linear_model import LogisticRegression\n",
    "import matplotlib.pyplot as plt\n",
    "from sklearn.model_selection import train_test_split\n",
    "from sklearn import ensemble\n",
    "from sklearn.model_selection import GridSearchCV\n",
    "from sklearn.model_selection import RepeatedStratifiedKFold\n",
    "from sklearn.model_selection import RandomizedSearchCV\n",
    "from sklearn.datasets import load_digits\n",
    "from scipy.stats import randint as sp_randint\n",
    "from time import time\n",
    "from tabulate import tabulate\n",
    "from sklearn.metrics import *\n",
    "from xgboost.sklearn import XGBClassifier\n",
    "df = pd.read_csv('/Users/ReeceWooten/Documents/School /MSBA/Summer/Predictive analytics /Unsuprivised learning/GitHub/Data-Science-Portfolio/KickStarter Project/kickstarter_final.csv')\n",
    "\n"
   ]
  },
  {
   "cell_type": "markdown",
   "metadata": {},
   "source": [
    "## View the first couple of rows"
   ]
  },
  {
   "cell_type": "code",
   "execution_count": 265,
   "metadata": {
    "scrolled": true
   },
   "outputs": [
    {
     "data": {
      "text/html": [
       "<div>\n",
       "<style>\n",
       "    .dataframe thead tr:only-child th {\n",
       "        text-align: right;\n",
       "    }\n",
       "\n",
       "    .dataframe thead th {\n",
       "        text-align: left;\n",
       "    }\n",
       "\n",
       "    .dataframe tbody tr th {\n",
       "        vertical-align: top;\n",
       "    }\n",
       "</style>\n",
       "<table border=\"1\" class=\"dataframe\">\n",
       "  <thead>\n",
       "    <tr style=\"text-align: right;\">\n",
       "      <th></th>\n",
       "      <th>name</th>\n",
       "      <th>goal</th>\n",
       "      <th>pledged</th>\n",
       "      <th>state</th>\n",
       "      <th>country</th>\n",
       "      <th>deadline</th>\n",
       "      <th>state_changed_at</th>\n",
       "      <th>created_at</th>\n",
       "      <th>launched_at</th>\n",
       "      <th>staff_pick</th>\n",
       "      <th>backers_count</th>\n",
       "      <th>usd_pledged</th>\n",
       "      <th>static_usd_rate</th>\n",
       "      <th>location</th>\n",
       "      <th>category</th>\n",
       "      <th>projectlength</th>\n",
       "      <th>category1</th>\n",
       "      <th>subcategory</th>\n",
       "    </tr>\n",
       "  </thead>\n",
       "  <tbody>\n",
       "    <tr>\n",
       "      <th>0</th>\n",
       "      <td>Racial Reconciliation Music Project</td>\n",
       "      <td>5000.0</td>\n",
       "      <td>262.0</td>\n",
       "      <td>NC</td>\n",
       "      <td>US</td>\n",
       "      <td>1479358740</td>\n",
       "      <td>1479358740</td>\n",
       "      <td>1476729788</td>\n",
       "      <td>1476818224</td>\n",
       "      <td>False</td>\n",
       "      <td>8</td>\n",
       "      <td>262.0</td>\n",
       "      <td>1.0</td>\n",
       "      <td>{\"country\":\"US\",\"urls\":{\"web\":{\"discover\":\"htt...</td>\n",
       "      <td>{\"urls\":{\"web\":{\"discover\":\"http://www.kicksta...</td>\n",
       "      <td>2540516</td>\n",
       "      <td>music</td>\n",
       "      <td>faith</td>\n",
       "    </tr>\n",
       "    <tr>\n",
       "      <th>1</th>\n",
       "      <td>Poetic Cultivation</td>\n",
       "      <td>1500.0</td>\n",
       "      <td>0.0</td>\n",
       "      <td>FL</td>\n",
       "      <td>US</td>\n",
       "      <td>1407002463</td>\n",
       "      <td>1407002463</td>\n",
       "      <td>1404240350</td>\n",
       "      <td>1404410463</td>\n",
       "      <td>False</td>\n",
       "      <td>0</td>\n",
       "      <td>0.0</td>\n",
       "      <td>1.0</td>\n",
       "      <td>{\"country\":\"US\",\"urls\":{\"web\":{\"discover\":\"htt...</td>\n",
       "      <td>{\"urls\":{\"web\":{\"discover\":\"http://www.kicksta...</td>\n",
       "      <td>2592000</td>\n",
       "      <td>publishing</td>\n",
       "      <td>poetry</td>\n",
       "    </tr>\n",
       "  </tbody>\n",
       "</table>\n",
       "</div>"
      ],
      "text/plain": [
       "                                  name    goal  pledged state country  \\\n",
       "0  Racial Reconciliation Music Project  5000.0    262.0    NC      US   \n",
       "1                   Poetic Cultivation  1500.0      0.0    FL      US   \n",
       "\n",
       "     deadline  state_changed_at  created_at  launched_at  staff_pick  \\\n",
       "0  1479358740        1479358740  1476729788   1476818224       False   \n",
       "1  1407002463        1407002463  1404240350   1404410463       False   \n",
       "\n",
       "   backers_count  usd_pledged  static_usd_rate  \\\n",
       "0              8        262.0              1.0   \n",
       "1              0          0.0              1.0   \n",
       "\n",
       "                                            location  \\\n",
       "0  {\"country\":\"US\",\"urls\":{\"web\":{\"discover\":\"htt...   \n",
       "1  {\"country\":\"US\",\"urls\":{\"web\":{\"discover\":\"htt...   \n",
       "\n",
       "                                            category  projectlength  \\\n",
       "0  {\"urls\":{\"web\":{\"discover\":\"http://www.kicksta...        2540516   \n",
       "1  {\"urls\":{\"web\":{\"discover\":\"http://www.kicksta...        2592000   \n",
       "\n",
       "    category1 subcategory  \n",
       "0       music       faith  \n",
       "1  publishing      poetry  "
      ]
     },
     "execution_count": 265,
     "metadata": {},
     "output_type": "execute_result"
    }
   ],
   "source": [
    "df[:2]"
   ]
  },
  {
   "cell_type": "markdown",
   "metadata": {},
   "source": [
    "# Pre-Proccessing/Feature Engineering"
   ]
  },
  {
   "cell_type": "markdown",
   "metadata": {},
   "source": [
    "### Create a successful status column"
   ]
  },
  {
   "cell_type": "code",
   "execution_count": 266,
   "metadata": {
    "collapsed": true
   },
   "outputs": [],
   "source": [
    "df.loc[df['goal']<=df['pledged'], 'status'] = 1\n",
    "df.loc[df['goal']>df['pledged'], 'status']= 0\n",
    "df['status']=pd.to_numeric(df['status'])\n"
   ]
  },
  {
   "cell_type": "code",
   "execution_count": 267,
   "metadata": {},
   "outputs": [
    {
     "data": {
      "text/plain": [
       "0.40069861281191654"
      ]
     },
     "execution_count": 267,
     "metadata": {},
     "output_type": "execute_result"
    }
   ],
   "source": [
    "sum(df['status']==1)/(float(sum(df['status']==0)+sum(df['status']==1)))"
   ]
  },
  {
   "cell_type": "markdown",
   "metadata": {},
   "source": [
    "The positive class is about 40% of the data so there is no need to re-balance the data"
   ]
  },
  {
   "cell_type": "markdown",
   "metadata": {},
   "source": [
    "### Changing the time stamp to days (currently in seconds)"
   ]
  },
  {
   "cell_type": "code",
   "execution_count": 268,
   "metadata": {
    "collapsed": true
   },
   "outputs": [],
   "source": [
    "df['projectlength_days']=(df['projectlength']/(60*60*24))"
   ]
  },
  {
   "cell_type": "markdown",
   "metadata": {},
   "source": [
    "### Creating a data-frame of unfinished kickstarters"
   ]
  },
  {
   "cell_type": "code",
   "execution_count": 269,
   "metadata": {
    "collapsed": true
   },
   "outputs": [],
   "source": [
    "df_not_fin=df[df['deadline']>1500076800]\n",
    "df_not_fin_0=df_not_fin[df_not_fin['status']==0]"
   ]
  },
  {
   "cell_type": "markdown",
   "metadata": {},
   "source": [
    "### Difference between creation and launch time"
   ]
  },
  {
   "cell_type": "code",
   "execution_count": 270,
   "metadata": {
    "collapsed": true
   },
   "outputs": [],
   "source": [
    "df['time_bw_create_launch']=df['launched_at']-df['created_at']\n",
    "df['time_bw_create_launch']=(df['time_bw_create_launch']/(60*60*24))\n"
   ]
  },
  {
   "cell_type": "markdown",
   "metadata": {},
   "source": [
    "A kickstarter may be more successful if the owner took more time between the creation of the project and the launch of the project"
   ]
  },
  {
   "cell_type": "markdown",
   "metadata": {},
   "source": [
    "### Kickstarter portion of the pledges"
   ]
  },
  {
   "cell_type": "code",
   "execution_count": 271,
   "metadata": {
    "collapsed": true
   },
   "outputs": [],
   "source": [
    "successful=df[df['status']==1]\n",
    "df['kickstarter_cut']=successful['usd_pledged']*.08"
   ]
  },
  {
   "cell_type": "markdown",
   "metadata": {},
   "source": [
    "At the time of the project, kickstarter takes about 8% of successfully funded projects"
   ]
  },
  {
   "cell_type": "markdown",
   "metadata": {},
   "source": [
    "### Summary statistics about the categories "
   ]
  },
  {
   "cell_type": "code",
   "execution_count": 272,
   "metadata": {},
   "outputs": [
    {
     "data": {
      "text/html": [
       "<div>\n",
       "<style>\n",
       "    .dataframe thead tr:only-child th {\n",
       "        text-align: right;\n",
       "    }\n",
       "\n",
       "    .dataframe thead th {\n",
       "        text-align: left;\n",
       "    }\n",
       "\n",
       "    .dataframe tbody tr th {\n",
       "        vertical-align: top;\n",
       "    }\n",
       "</style>\n",
       "<table border=\"1\" class=\"dataframe\">\n",
       "  <thead>\n",
       "    <tr>\n",
       "      <th></th>\n",
       "      <th colspan=\"8\" halign=\"left\">backers_count</th>\n",
       "    </tr>\n",
       "    <tr>\n",
       "      <th></th>\n",
       "      <th>count</th>\n",
       "      <th>mean</th>\n",
       "      <th>std</th>\n",
       "      <th>min</th>\n",
       "      <th>25%</th>\n",
       "      <th>50%</th>\n",
       "      <th>75%</th>\n",
       "      <th>max</th>\n",
       "    </tr>\n",
       "    <tr>\n",
       "      <th>category1</th>\n",
       "      <th></th>\n",
       "      <th></th>\n",
       "      <th></th>\n",
       "      <th></th>\n",
       "      <th></th>\n",
       "      <th></th>\n",
       "      <th></th>\n",
       "      <th></th>\n",
       "    </tr>\n",
       "  </thead>\n",
       "  <tbody>\n",
       "    <tr>\n",
       "      <th>art</th>\n",
       "      <td>4760.0</td>\n",
       "      <td>41.535714</td>\n",
       "      <td>344.779124</td>\n",
       "      <td>0.0</td>\n",
       "      <td>2.0</td>\n",
       "      <td>9.0</td>\n",
       "      <td>36.00</td>\n",
       "      <td>22840.0</td>\n",
       "    </tr>\n",
       "    <tr>\n",
       "      <th>comics</th>\n",
       "      <td>1317.0</td>\n",
       "      <td>160.582384</td>\n",
       "      <td>420.104241</td>\n",
       "      <td>0.0</td>\n",
       "      <td>11.0</td>\n",
       "      <td>45.0</td>\n",
       "      <td>138.00</td>\n",
       "      <td>6435.0</td>\n",
       "    </tr>\n",
       "    <tr>\n",
       "      <th>crafts</th>\n",
       "      <td>957.0</td>\n",
       "      <td>19.137931</td>\n",
       "      <td>62.201436</td>\n",
       "      <td>0.0</td>\n",
       "      <td>1.0</td>\n",
       "      <td>3.0</td>\n",
       "      <td>10.00</td>\n",
       "      <td>1069.0</td>\n",
       "    </tr>\n",
       "    <tr>\n",
       "      <th>dance</th>\n",
       "      <td>357.0</td>\n",
       "      <td>35.089636</td>\n",
       "      <td>43.581292</td>\n",
       "      <td>0.0</td>\n",
       "      <td>4.0</td>\n",
       "      <td>21.0</td>\n",
       "      <td>51.00</td>\n",
       "      <td>294.0</td>\n",
       "    </tr>\n",
       "    <tr>\n",
       "      <th>design</th>\n",
       "      <td>2097.0</td>\n",
       "      <td>440.270386</td>\n",
       "      <td>2033.722392</td>\n",
       "      <td>0.0</td>\n",
       "      <td>13.0</td>\n",
       "      <td>77.0</td>\n",
       "      <td>287.00</td>\n",
       "      <td>62642.0</td>\n",
       "    </tr>\n",
       "    <tr>\n",
       "      <th>fashion</th>\n",
       "      <td>2736.0</td>\n",
       "      <td>65.642544</td>\n",
       "      <td>313.512828</td>\n",
       "      <td>0.0</td>\n",
       "      <td>1.0</td>\n",
       "      <td>5.0</td>\n",
       "      <td>37.00</td>\n",
       "      <td>9624.0</td>\n",
       "    </tr>\n",
       "    <tr>\n",
       "      <th>film</th>\n",
       "      <td>7952.0</td>\n",
       "      <td>96.016097</td>\n",
       "      <td>1085.043809</td>\n",
       "      <td>0.0</td>\n",
       "      <td>3.0</td>\n",
       "      <td>21.0</td>\n",
       "      <td>66.00</td>\n",
       "      <td>91585.0</td>\n",
       "    </tr>\n",
       "    <tr>\n",
       "      <th>food</th>\n",
       "      <td>3156.0</td>\n",
       "      <td>39.154309</td>\n",
       "      <td>111.435261</td>\n",
       "      <td>0.0</td>\n",
       "      <td>1.0</td>\n",
       "      <td>4.0</td>\n",
       "      <td>25.00</td>\n",
       "      <td>2165.0</td>\n",
       "    </tr>\n",
       "    <tr>\n",
       "      <th>games</th>\n",
       "      <td>3710.0</td>\n",
       "      <td>513.054717</td>\n",
       "      <td>2134.211020</td>\n",
       "      <td>0.0</td>\n",
       "      <td>7.0</td>\n",
       "      <td>73.0</td>\n",
       "      <td>321.75</td>\n",
       "      <td>69320.0</td>\n",
       "    </tr>\n",
       "    <tr>\n",
       "      <th>journalism</th>\n",
       "      <td>713.0</td>\n",
       "      <td>37.886396</td>\n",
       "      <td>193.149196</td>\n",
       "      <td>0.0</td>\n",
       "      <td>0.0</td>\n",
       "      <td>2.0</td>\n",
       "      <td>8.00</td>\n",
       "      <td>3116.0</td>\n",
       "    </tr>\n",
       "    <tr>\n",
       "      <th>music</th>\n",
       "      <td>8263.0</td>\n",
       "      <td>52.641293</td>\n",
       "      <td>135.303278</td>\n",
       "      <td>0.0</td>\n",
       "      <td>2.0</td>\n",
       "      <td>22.0</td>\n",
       "      <td>64.00</td>\n",
       "      <td>4905.0</td>\n",
       "    </tr>\n",
       "    <tr>\n",
       "      <th>photography</th>\n",
       "      <td>1194.0</td>\n",
       "      <td>35.159966</td>\n",
       "      <td>117.585590</td>\n",
       "      <td>0.0</td>\n",
       "      <td>1.0</td>\n",
       "      <td>3.0</td>\n",
       "      <td>20.00</td>\n",
       "      <td>2687.0</td>\n",
       "    </tr>\n",
       "    <tr>\n",
       "      <th>publishing</th>\n",
       "      <td>5933.0</td>\n",
       "      <td>71.653632</td>\n",
       "      <td>266.193191</td>\n",
       "      <td>0.0</td>\n",
       "      <td>2.0</td>\n",
       "      <td>15.0</td>\n",
       "      <td>62.00</td>\n",
       "      <td>9044.0</td>\n",
       "    </tr>\n",
       "    <tr>\n",
       "      <th>technology</th>\n",
       "      <td>5736.0</td>\n",
       "      <td>170.767782</td>\n",
       "      <td>833.516306</td>\n",
       "      <td>0.0</td>\n",
       "      <td>1.0</td>\n",
       "      <td>6.0</td>\n",
       "      <td>52.00</td>\n",
       "      <td>21412.0</td>\n",
       "    </tr>\n",
       "    <tr>\n",
       "      <th>theater</th>\n",
       "      <td>932.0</td>\n",
       "      <td>47.245708</td>\n",
       "      <td>149.829401</td>\n",
       "      <td>0.0</td>\n",
       "      <td>4.0</td>\n",
       "      <td>19.0</td>\n",
       "      <td>50.00</td>\n",
       "      <td>3722.0</td>\n",
       "    </tr>\n",
       "  </tbody>\n",
       "</table>\n",
       "</div>"
      ],
      "text/plain": [
       "            backers_count                                                    \\\n",
       "                    count        mean          std  min   25%   50%     75%   \n",
       "category1                                                                     \n",
       "art                4760.0   41.535714   344.779124  0.0   2.0   9.0   36.00   \n",
       "comics             1317.0  160.582384   420.104241  0.0  11.0  45.0  138.00   \n",
       "crafts              957.0   19.137931    62.201436  0.0   1.0   3.0   10.00   \n",
       "dance               357.0   35.089636    43.581292  0.0   4.0  21.0   51.00   \n",
       "design             2097.0  440.270386  2033.722392  0.0  13.0  77.0  287.00   \n",
       "fashion            2736.0   65.642544   313.512828  0.0   1.0   5.0   37.00   \n",
       "film               7952.0   96.016097  1085.043809  0.0   3.0  21.0   66.00   \n",
       "food               3156.0   39.154309   111.435261  0.0   1.0   4.0   25.00   \n",
       "games              3710.0  513.054717  2134.211020  0.0   7.0  73.0  321.75   \n",
       "journalism          713.0   37.886396   193.149196  0.0   0.0   2.0    8.00   \n",
       "music              8263.0   52.641293   135.303278  0.0   2.0  22.0   64.00   \n",
       "photography        1194.0   35.159966   117.585590  0.0   1.0   3.0   20.00   \n",
       "publishing         5933.0   71.653632   266.193191  0.0   2.0  15.0   62.00   \n",
       "technology         5736.0  170.767782   833.516306  0.0   1.0   6.0   52.00   \n",
       "theater             932.0   47.245708   149.829401  0.0   4.0  19.0   50.00   \n",
       "\n",
       "                      \n",
       "                 max  \n",
       "category1             \n",
       "art          22840.0  \n",
       "comics        6435.0  \n",
       "crafts        1069.0  \n",
       "dance          294.0  \n",
       "design       62642.0  \n",
       "fashion       9624.0  \n",
       "film         91585.0  \n",
       "food          2165.0  \n",
       "games        69320.0  \n",
       "journalism    3116.0  \n",
       "music         4905.0  \n",
       "photography   2687.0  \n",
       "publishing    9044.0  \n",
       "technology   21412.0  \n",
       "theater       3722.0  "
      ]
     },
     "execution_count": 272,
     "metadata": {},
     "output_type": "execute_result"
    }
   ],
   "source": [
    "backers_cat=df[['backers_count','category1']]\n",
    "backers_cat_stat=backers_cat.groupby('category1').describe()\n",
    "backers_cat_stat"
   ]
  },
  {
   "cell_type": "code",
   "execution_count": 273,
   "metadata": {},
   "outputs": [
    {
     "data": {
      "text/html": [
       "<div>\n",
       "<style>\n",
       "    .dataframe thead tr:only-child th {\n",
       "        text-align: right;\n",
       "    }\n",
       "\n",
       "    .dataframe thead th {\n",
       "        text-align: left;\n",
       "    }\n",
       "\n",
       "    .dataframe tbody tr th {\n",
       "        vertical-align: top;\n",
       "    }\n",
       "</style>\n",
       "<table border=\"1\" class=\"dataframe\">\n",
       "  <thead>\n",
       "    <tr>\n",
       "      <th></th>\n",
       "      <th colspan=\"8\" halign=\"left\">usd_pledged</th>\n",
       "    </tr>\n",
       "    <tr>\n",
       "      <th></th>\n",
       "      <th>count</th>\n",
       "      <th>mean</th>\n",
       "      <th>std</th>\n",
       "      <th>min</th>\n",
       "      <th>25%</th>\n",
       "      <th>50%</th>\n",
       "      <th>75%</th>\n",
       "      <th>max</th>\n",
       "    </tr>\n",
       "    <tr>\n",
       "      <th>category1</th>\n",
       "      <th></th>\n",
       "      <th></th>\n",
       "      <th></th>\n",
       "      <th></th>\n",
       "      <th></th>\n",
       "      <th></th>\n",
       "      <th></th>\n",
       "      <th></th>\n",
       "    </tr>\n",
       "  </thead>\n",
       "  <tbody>\n",
       "    <tr>\n",
       "      <th>art</th>\n",
       "      <td>4760.0</td>\n",
       "      <td>3042.986386</td>\n",
       "      <td>22210.814856</td>\n",
       "      <td>0.0</td>\n",
       "      <td>28.057971</td>\n",
       "      <td>419.100118</td>\n",
       "      <td>2211.500000</td>\n",
       "      <td>1365105.45</td>\n",
       "    </tr>\n",
       "    <tr>\n",
       "      <th>comics</th>\n",
       "      <td>1317.0</td>\n",
       "      <td>7879.523307</td>\n",
       "      <td>28808.324656</td>\n",
       "      <td>0.0</td>\n",
       "      <td>325.000000</td>\n",
       "      <td>1690.000000</td>\n",
       "      <td>5709.000000</td>\n",
       "      <td>665725.94</td>\n",
       "    </tr>\n",
       "    <tr>\n",
       "      <th>crafts</th>\n",
       "      <td>957.0</td>\n",
       "      <td>1297.015515</td>\n",
       "      <td>5327.262964</td>\n",
       "      <td>0.0</td>\n",
       "      <td>1.000000</td>\n",
       "      <td>59.529214</td>\n",
       "      <td>523.000000</td>\n",
       "      <td>86207.00</td>\n",
       "    </tr>\n",
       "    <tr>\n",
       "      <th>dance</th>\n",
       "      <td>357.0</td>\n",
       "      <td>3064.782536</td>\n",
       "      <td>4722.557328</td>\n",
       "      <td>0.0</td>\n",
       "      <td>172.000000</td>\n",
       "      <td>1469.400933</td>\n",
       "      <td>4154.000000</td>\n",
       "      <td>46270.09</td>\n",
       "    </tr>\n",
       "    <tr>\n",
       "      <th>design</th>\n",
       "      <td>2097.0</td>\n",
       "      <td>44715.658122</td>\n",
       "      <td>374885.522046</td>\n",
       "      <td>0.0</td>\n",
       "      <td>565.000000</td>\n",
       "      <td>5230.000000</td>\n",
       "      <td>23569.284659</td>\n",
       "      <td>13285226.36</td>\n",
       "    </tr>\n",
       "    <tr>\n",
       "      <th>fashion</th>\n",
       "      <td>2736.0</td>\n",
       "      <td>6732.499053</td>\n",
       "      <td>31047.170879</td>\n",
       "      <td>0.0</td>\n",
       "      <td>4.000000</td>\n",
       "      <td>208.500000</td>\n",
       "      <td>3001.000000</td>\n",
       "      <td>654557.00</td>\n",
       "    </tr>\n",
       "    <tr>\n",
       "      <th>film</th>\n",
       "      <td>7952.0</td>\n",
       "      <td>8248.146472</td>\n",
       "      <td>68354.262348</td>\n",
       "      <td>0.0</td>\n",
       "      <td>76.000000</td>\n",
       "      <td>1505.500000</td>\n",
       "      <td>6213.940000</td>\n",
       "      <td>5702153.38</td>\n",
       "    </tr>\n",
       "    <tr>\n",
       "      <th>food</th>\n",
       "      <td>3156.0</td>\n",
       "      <td>3807.838668</td>\n",
       "      <td>11059.899267</td>\n",
       "      <td>0.0</td>\n",
       "      <td>2.000000</td>\n",
       "      <td>110.558560</td>\n",
       "      <td>2113.750000</td>\n",
       "      <td>255669.50</td>\n",
       "    </tr>\n",
       "    <tr>\n",
       "      <th>games</th>\n",
       "      <td>3710.0</td>\n",
       "      <td>29984.092931</td>\n",
       "      <td>158717.968874</td>\n",
       "      <td>0.0</td>\n",
       "      <td>204.040709</td>\n",
       "      <td>3143.687291</td>\n",
       "      <td>15487.798596</td>\n",
       "      <td>6333295.77</td>\n",
       "    </tr>\n",
       "    <tr>\n",
       "      <th>journalism</th>\n",
       "      <td>713.0</td>\n",
       "      <td>2405.135173</td>\n",
       "      <td>11214.772674</td>\n",
       "      <td>0.0</td>\n",
       "      <td>0.000000</td>\n",
       "      <td>26.000000</td>\n",
       "      <td>457.740276</td>\n",
       "      <td>171755.09</td>\n",
       "    </tr>\n",
       "    <tr>\n",
       "      <th>music</th>\n",
       "      <td>8263.0</td>\n",
       "      <td>3728.466506</td>\n",
       "      <td>9043.800899</td>\n",
       "      <td>0.0</td>\n",
       "      <td>65.000000</td>\n",
       "      <td>1194.516738</td>\n",
       "      <td>4352.500000</td>\n",
       "      <td>326593.51</td>\n",
       "    </tr>\n",
       "    <tr>\n",
       "      <th>photography</th>\n",
       "      <td>1194.0</td>\n",
       "      <td>2820.270929</td>\n",
       "      <td>8143.555916</td>\n",
       "      <td>0.0</td>\n",
       "      <td>1.000000</td>\n",
       "      <td>101.000000</td>\n",
       "      <td>1355.500000</td>\n",
       "      <td>107193.35</td>\n",
       "    </tr>\n",
       "    <tr>\n",
       "      <th>publishing</th>\n",
       "      <td>5933.0</td>\n",
       "      <td>4338.948681</td>\n",
       "      <td>15139.939431</td>\n",
       "      <td>0.0</td>\n",
       "      <td>51.000000</td>\n",
       "      <td>725.000000</td>\n",
       "      <td>3775.000000</td>\n",
       "      <td>613251.44</td>\n",
       "    </tr>\n",
       "    <tr>\n",
       "      <th>technology</th>\n",
       "      <td>5736.0</td>\n",
       "      <td>23268.256793</td>\n",
       "      <td>124940.549155</td>\n",
       "      <td>0.0</td>\n",
       "      <td>10.000000</td>\n",
       "      <td>313.150131</td>\n",
       "      <td>5289.250000</td>\n",
       "      <td>3401361.08</td>\n",
       "    </tr>\n",
       "    <tr>\n",
       "      <th>theater</th>\n",
       "      <td>932.0</td>\n",
       "      <td>4008.423815</td>\n",
       "      <td>10712.375886</td>\n",
       "      <td>0.0</td>\n",
       "      <td>131.619903</td>\n",
       "      <td>1233.195431</td>\n",
       "      <td>3894.891598</td>\n",
       "      <td>169985.91</td>\n",
       "    </tr>\n",
       "  </tbody>\n",
       "</table>\n",
       "</div>"
      ],
      "text/plain": [
       "            usd_pledged                                                \\\n",
       "                  count          mean            std  min         25%   \n",
       "category1                                                               \n",
       "art              4760.0   3042.986386   22210.814856  0.0   28.057971   \n",
       "comics           1317.0   7879.523307   28808.324656  0.0  325.000000   \n",
       "crafts            957.0   1297.015515    5327.262964  0.0    1.000000   \n",
       "dance             357.0   3064.782536    4722.557328  0.0  172.000000   \n",
       "design           2097.0  44715.658122  374885.522046  0.0  565.000000   \n",
       "fashion          2736.0   6732.499053   31047.170879  0.0    4.000000   \n",
       "film             7952.0   8248.146472   68354.262348  0.0   76.000000   \n",
       "food             3156.0   3807.838668   11059.899267  0.0    2.000000   \n",
       "games            3710.0  29984.092931  158717.968874  0.0  204.040709   \n",
       "journalism        713.0   2405.135173   11214.772674  0.0    0.000000   \n",
       "music            8263.0   3728.466506    9043.800899  0.0   65.000000   \n",
       "photography      1194.0   2820.270929    8143.555916  0.0    1.000000   \n",
       "publishing       5933.0   4338.948681   15139.939431  0.0   51.000000   \n",
       "technology       5736.0  23268.256793  124940.549155  0.0   10.000000   \n",
       "theater           932.0   4008.423815   10712.375886  0.0  131.619903   \n",
       "\n",
       "                                                     \n",
       "                     50%           75%          max  \n",
       "category1                                            \n",
       "art           419.100118   2211.500000   1365105.45  \n",
       "comics       1690.000000   5709.000000    665725.94  \n",
       "crafts         59.529214    523.000000     86207.00  \n",
       "dance        1469.400933   4154.000000     46270.09  \n",
       "design       5230.000000  23569.284659  13285226.36  \n",
       "fashion       208.500000   3001.000000    654557.00  \n",
       "film         1505.500000   6213.940000   5702153.38  \n",
       "food          110.558560   2113.750000    255669.50  \n",
       "games        3143.687291  15487.798596   6333295.77  \n",
       "journalism     26.000000    457.740276    171755.09  \n",
       "music        1194.516738   4352.500000    326593.51  \n",
       "photography   101.000000   1355.500000    107193.35  \n",
       "publishing    725.000000   3775.000000    613251.44  \n",
       "technology    313.150131   5289.250000   3401361.08  \n",
       "theater      1233.195431   3894.891598    169985.91  "
      ]
     },
     "execution_count": 273,
     "metadata": {},
     "output_type": "execute_result"
    }
   ],
   "source": [
    "pledged_cat=df[['usd_pledged','category1']]\n",
    "pledged_cat_stat=pledged_cat.groupby('category1').describe()\n",
    "pledged_cat_stat"
   ]
  },
  {
   "cell_type": "markdown",
   "metadata": {},
   "source": [
    "# EDA"
   ]
  },
  {
   "cell_type": "code",
   "execution_count": 274,
   "metadata": {
    "scrolled": false
   },
   "outputs": [
    {
     "data": {
      "text/plain": [
       "<matplotlib.text.Text at 0x1c166afe10>"
      ]
     },
     "execution_count": 274,
     "metadata": {},
     "output_type": "execute_result"
    },
    {
     "data": {
      "image/png": "[encoded data removed]",
      "text/plain": [
       "<matplotlib.figure.Figure at 0x1c20c91d90>"
      ]
     },
     "metadata": {},
     "output_type": "display_data"
    }
   ],
   "source": [
    "kickstarter_bycat_dollar=df.groupby(['category1'])[['kickstarter_cut','goal']].agg(['mean','count','sum'])\n",
    "kickstarter_bycat_dollar['kickstarter_cut'].sort_values(by=['sum'],ascending=[False])['sum'].plot(kind='bar',color='blue')\n",
    "ylabel('Kickstarter\\'s cut in $100M')"
   ]
  },
  {
   "cell_type": "markdown",
   "metadata": {},
   "source": [
    "Kickstarter may be interested in which categories bring in the most money for them, it looks like technology, games, and design bring in the most for kickstarter. This may be due to the number of projects in these categories though."
   ]
  },
  {
   "cell_type": "code",
   "execution_count": 275,
   "metadata": {},
   "outputs": [
    {
     "data": {
      "text/plain": [
       "<matplotlib.axes._subplots.AxesSubplot at 0x1c20ccef50>"
      ]
     },
     "execution_count": 275,
     "metadata": {},
     "output_type": "execute_result"
    },
    {
     "data": {
      "image/png": "[encoded data removed]",
      "text/plain": [
       "<matplotlib.figure.Figure at 0x1c20281dd0>"
      ]
     },
     "metadata": {},
     "output_type": "display_data"
    }
   ],
   "source": [
    "kickstarter_bycat_dollar=df.groupby(['category1'])[['kickstarter_cut','goal','backers_count']].agg(['mean','count','sum'])\n",
    "(kickstarter_bycat_dollar['kickstarter_cut']['sum']/kickstarter_bycat_dollar['backers_count']['sum']).sort_values(ascending=[False]).plot(kind='bar',color='blue')\n"
   ]
  },
  {
   "cell_type": "markdown",
   "metadata": {},
   "source": [
    "This chart takes into account the number of backers per category, this could be used to get a sense of which categories backers support more than others. In contrast to the previous graph games is no longer in the top three which indicates that games backers don’t tend to support projects more than technology and design backers. \n"
   ]
  },
  {
   "cell_type": "markdown",
   "metadata": {},
   "source": [
    "#### Interactions"
   ]
  },
  {
   "cell_type": "code",
   "execution_count": 276,
   "metadata": {
    "collapsed": true
   },
   "outputs": [],
   "source": [
    "kickstarter_bycat_dollar=df.groupby(['category1'])[['kickstarter_cut','usd_pledged','backers_count']].agg(['mean','count','sum'])\n",
    "kickstarter_bycat_success=df.groupby(['category1','status'])[['usd_pledged']].agg(['sum'])\n",
    "q=kickstarter_bycat_success.unstack()['usd_pledged']['sum']\n"
   ]
  },
  {
   "cell_type": "code",
   "execution_count": 277,
   "metadata": {},
   "outputs": [
    {
     "data": {
      "text/plain": [
       "<matplotlib.axes._subplots.AxesSubplot at 0x1c165b50d0>"
      ]
     },
     "execution_count": 277,
     "metadata": {},
     "output_type": "execute_result"
    },
    {
     "data": {
      "image/png": "[encoded data removed]",
      "text/plain": [
       "<matplotlib.figure.Figure at 0x1c205d4650>"
      ]
     },
     "metadata": {},
     "output_type": "display_data"
    }
   ],
   "source": [
    "kickstarter_bycat_success=df.groupby(['category1','status'])[['usd_pledged']].agg(['sum'])\n",
    "kickstarter_bycat_success=kickstarter_bycat_success.unstack()['usd_pledged']['sum']\n",
    "kickstarter_bycat_success['o']=kickstarter_bycat_success[0]/(kickstarter_bycat_success[0]+kickstarter_bycat_success[1])  \n",
    "kickstarter_bycat_success['l']=kickstarter_bycat_success[1]/(kickstarter_bycat_success[0]+kickstarter_bycat_success[1])\n",
    "kickstarter_bycat_success['total_funded']=kickstarter_bycat_success['o']+kickstarter_bycat_success['l']\n",
    "kickstarter_bycat_success=kickstarter_bycat_success.sort_values(by=['o'],ascending=False)\n",
    "kickstarter_bycat_success[['o','l']].plot.bar(stacked=True)\n"
   ]
  },
  {
   "cell_type": "markdown",
   "metadata": {},
   "source": [
    "There does seem to be a monotonic relationship between category and a project being successfully funded. While these categories aren’t adjusted by the number of projects per category or by goal, it does look like photography and food are more successful on average than games and design. "
   ]
  },
  {
   "cell_type": "code",
   "execution_count": 278,
   "metadata": {},
   "outputs": [],
   "source": [
    "kickstarter_bycat_dollar=df.groupby(['category1'])[['kickstarter_cut','usd_pledged','backers_count']].agg(['mean','count','sum'])\n"
   ]
  },
  {
   "cell_type": "code",
   "execution_count": 279,
   "metadata": {
    "scrolled": true
   },
   "outputs": [
    {
     "data": {
      "text/plain": [
       "<matplotlib.axes._subplots.AxesSubplot at 0x1c165ad290>"
      ]
     },
     "execution_count": 279,
     "metadata": {},
     "output_type": "execute_result"
    },
    {
     "data": {
      "image/png": "[encoded data removed]",
      "text/plain": [
       "<matplotlib.figure.Figure at 0x1c19399e50>"
      ]
     },
     "metadata": {},
     "output_type": "display_data"
    }
   ],
   "source": [
    "kickstarter_bycat_dollar=df.groupby(['category1','staff_pick'])['name'].agg(['count'])\n",
    "kickstarter_staff=kickstarter_bycat_dollar.unstack()['count']\n",
    "kickstarter_staff['total_staff']=kickstarter_staff[False]+kickstarter_staff[True]\n",
    "kickstarter_staff['F']=kickstarter_staff[False]/(kickstarter_staff[False]+kickstarter_staff[True])\n",
    "kickstarter_staff['T']=kickstarter_staff[True]/(kickstarter_staff[False]+kickstarter_staff[True])\n",
    "kickstarter_staff=kickstarter_staff.sort_values(by=['T'],ascending=False)\n",
    "kickstarter_staff[['F','T']].plot.bar(stacked=True)\n"
   ]
  },
  {
   "cell_type": "markdown",
   "metadata": {},
   "source": [
    "This graph was to get a sense of which categories the staff of kickstarter preferred. "
   ]
  },
  {
   "cell_type": "markdown",
   "metadata": {},
   "source": [
    "# Modeling "
   ]
  },
  {
   "cell_type": "markdown",
   "metadata": {},
   "source": [
    "### Simple Linear"
   ]
  },
  {
   "cell_type": "markdown",
   "metadata": {},
   "source": [
    "### Logistic"
   ]
  },
  {
   "cell_type": "code",
   "execution_count": 280,
   "metadata": {
    "collapsed": true
   },
   "outputs": [],
   "source": [
    "y, X = dmatrices('usd_pledged ~ time_bw_create_launch+projectlength_days+backers_count+staff_pick+category1+country+state+subcategory', data=df, return_type='dataframe')\n"
   ]
  },
  {
   "cell_type": "code",
   "execution_count": 281,
   "metadata": {},
   "outputs": [
    {
     "name": "stdout",
     "output_type": "stream",
     "text": [
      "                            OLS Regression Results                            \n",
      "==============================================================================\n",
      "Dep. Variable:            usd_pledged   R-squared:                       0.624\n",
      "Model:                            OLS   Adj. R-squared:                  0.619\n",
      "Method:                 Least Squares   F-statistic:                     121.9\n",
      "Date:                Wed, 20 Dec 2017   Prob (F-statistic):               0.00\n",
      "Time:                        17:24:51   Log-Likelihood:            -4.9830e+05\n",
      "No. Observations:               39874   AIC:                         9.977e+05\n",
      "Df Residuals:                   39337   BIC:                         1.002e+06\n",
      "Df Model:                         536                                         \n",
      "Covariance Type:            nonrobust                                         \n",
      "=======================================================================================================\n",
      "                                          coef    std err          t      P>|t|      [0.025      0.975]\n",
      "-------------------------------------------------------------------------------------------------------\n",
      "Intercept                            8910.5385    1.9e+04      0.468      0.640   -2.84e+04    4.62e+04\n",
      "staff_pick[T.True]                  -6549.7397   1119.697     -5.850      0.000   -8744.374   -4355.106\n",
      "category1[T.comics]                 -9127.9908    1.2e+04     -0.762      0.446   -3.26e+04    1.43e+04\n",
      "category1[T.crafts]                 -5068.5015   4024.913     -1.259      0.208    -1.3e+04    2820.426\n",
      "category1[T.dance]                  -6665.0792   1.47e+04     -0.453      0.650   -3.55e+04    2.22e+04\n",
      "category1[T.design]                 -6656.8225   2880.011     -2.311      0.021   -1.23e+04   -1011.931\n",
      "category1[T.fashion]                -4285.1286   2389.672     -1.793      0.073   -8968.944     398.686\n",
      "category1[T.film]                    1.266e-07   3.26e-08      3.879      0.000    6.26e-08    1.91e-07\n",
      "category1[T.food]                   -7821.4556   1.13e+04     -0.690      0.490      -3e+04    1.44e+04\n",
      "category1[T.games]                  -1.251e+04   2196.190     -5.697      0.000   -1.68e+04   -8207.806\n",
      "category1[T.journalism]               7.27e+04   6837.187     10.633      0.000    5.93e+04    8.61e+04\n",
      "category1[T.music]                  -4626.6072   2.38e+04     -0.194      0.846   -5.13e+04     4.2e+04\n",
      "category1[T.photography]            -4194.4765   2344.440     -1.789      0.074   -8789.635     400.682\n",
      "category1[T.publishing]             -5133.2197   1.21e+04     -0.425      0.671   -2.88e+04    1.85e+04\n",
      "category1[T.technology]              7.312e+04   5271.857     13.869      0.000    6.28e+04    8.34e+04\n",
      "category1[T.theater]                -7115.0058    1.2e+04     -0.591      0.554   -3.07e+04    1.65e+04\n",
      "country[T.AU]                       -9357.2586   1.94e+04     -0.482      0.630   -4.74e+04    2.87e+04\n",
      "country[T.BE]                       -1.846e+04   2.76e+04     -0.669      0.504   -7.25e+04    3.56e+04\n",
      "country[T.CA]                       -5629.3870   1.92e+04     -0.293      0.770   -4.33e+04     3.2e+04\n",
      "country[T.CH]                       -2.919e+04   4.32e+04     -0.676      0.499   -1.14e+05    5.54e+04\n",
      "country[T.DE]                       -2.813e+04   1.97e+04     -1.425      0.154   -6.68e+04    1.05e+04\n",
      "country[T.DK]                        4.374e+04   2.31e+04      1.890      0.059   -1621.134    8.91e+04\n",
      "country[T.ES]                         201.7350   2.12e+04      0.010      0.992   -4.14e+04    4.18e+04\n",
      "country[T.FR]                        1.692e+04   2.42e+04      0.699      0.484   -3.05e+04    6.43e+04\n",
      "country[T.GB]                       -1.961e+04    1.9e+04     -1.035      0.301   -5.68e+04    1.75e+04\n",
      "country[T.HK]                       -1.501e+04   5.03e+04     -0.298      0.766   -1.14e+05    8.36e+04\n",
      "country[T.IE]                       -1.267e+04   2.44e+04     -0.520      0.603   -6.04e+04    3.51e+04\n",
      "country[T.IT]                       -1.211e+04   2.04e+04     -0.593      0.553   -5.21e+04    2.79e+04\n",
      "country[T.LU]                       -9286.2400   7.79e+04     -0.119      0.905   -1.62e+05    1.43e+05\n",
      "country[T.MX]                       -8206.3628   2.77e+04     -0.296      0.767   -6.26e+04    4.61e+04\n",
      "country[T.NL]                       -1.137e+04    2.3e+04     -0.495      0.620   -5.64e+04    3.36e+04\n",
      "country[T.NO]                       -9713.1600    4.3e+04     -0.226      0.821    -9.4e+04    7.46e+04\n",
      "country[T.NZ]                        -1.39e+04   2.82e+04     -0.492      0.623   -6.92e+04    4.14e+04\n",
      "country[T.SE]                       -2.392e+04   2.29e+04     -1.044      0.296   -6.88e+04     2.1e+04\n",
      "country[T.SG]                        6.931e-08   2.66e-07      0.261      0.794   -4.51e-07     5.9e-07\n",
      "country[T.US]                       -7146.7147   1.85e+04     -0.385      0.700   -4.35e+04    2.92e+04\n",
      "state[T.ACT]                         2829.3981   1.62e+04      0.175      0.861   -2.88e+04    3.45e+04\n",
      "state[T.AK]                           -20.5765   9911.284     -0.002      0.998   -1.94e+04    1.94e+04\n",
      "state[T.AL]                         -1699.3888   8240.958     -0.206      0.837   -1.79e+04    1.45e+04\n",
      "state[T.AR]                          1947.8267   8757.101      0.222      0.824   -1.52e+04    1.91e+04\n",
      "state[T.AZ]                          -916.2510   7376.242     -0.124      0.901   -1.54e+04    1.35e+04\n",
      "state[T.Abruzzi]                     3021.3484   3.45e+04      0.088      0.930   -6.45e+04    7.06e+04\n",
      "state[T.Adjuntas]                   -1263.2190   6.57e+04     -0.019      0.985    -1.3e+05    1.27e+05\n",
      "state[T.Aegean]                      1.307e+04   3.84e+04      0.340      0.734   -6.22e+04    8.83e+04\n",
      "state[T.Aguascalientes]              1627.5432   4.38e+04      0.037      0.970   -8.43e+04    8.75e+04\n",
      "state[T.Alsace]                      -1.53e+04    2.8e+04     -0.546      0.585   -7.02e+04    3.96e+04\n",
      "state[T.Amman]                       4558.6209   4.67e+04      0.098      0.922    -8.7e+04    9.61e+04\n",
      "state[T.Andalusia]                  -7440.1568   1.51e+04     -0.492      0.623   -3.71e+04    2.22e+04\n",
      "state[T.Anhui]                       5.643e+05   6.59e+04      8.559      0.000    4.35e+05    6.93e+05\n",
      "state[T.Ankara]                      2593.5604   6.56e+04      0.040      0.968   -1.26e+05    1.31e+05\n",
      "state[T.Antioquia]                    826.6974   4.67e+04      0.018      0.986   -9.06e+04    9.23e+04\n",
      "state[T.Antwerp]                     7544.7108   2.83e+04      0.267      0.790   -4.79e+04     6.3e+04\n",
      "state[T.Aquitaine]                  -2.105e+04   2.33e+04     -0.902      0.367   -6.68e+04    2.47e+04\n",
      "state[T.Aragon]                     -2758.2867   2.22e+04     -0.124      0.901   -4.64e+04    4.08e+04\n",
      "state[T.Arecibo]                    -2621.6833   6.65e+04     -0.039      0.969   -1.33e+05    1.28e+05\n",
      "state[T.Arnessysla]                  2066.9058   6.58e+04      0.031      0.975   -1.27e+05    1.31e+05\n",
      "state[T.Arusha]                      4.546e-08   4.01e-07      0.113      0.910   -7.41e-07    8.32e-07\n",
      "state[T.Ashanti]                     3816.8379   4.69e+04      0.081      0.935   -8.82e+04    9.58e+04\n",
      "state[T.Asturias]                   -1.093e+04   3.18e+04     -0.344      0.731   -7.32e+04    5.14e+04\n",
      "state[T.Atlantico]                   1080.2364   6.56e+04      0.016      0.987   -1.27e+05     1.3e+05\n",
      "state[T.Attica]                      1.659e+04   3.02e+04      0.549      0.583   -4.26e+04    7.58e+04\n",
      "state[T.Auvergne]                   -2.054e+04   1.84e+04     -1.115      0.265   -5.66e+04    1.56e+04\n",
      "state[T.Aveiro]                      2413.7221   6.56e+04      0.037      0.971   -1.26e+05    1.31e+05\n",
      "state[T.Azores]                     -2967.8745   6.56e+04     -0.045      0.964   -1.32e+05    1.26e+05\n",
      "state[T.Azuay]                       1909.1987   4.66e+04      0.041      0.967   -8.95e+04    9.33e+04\n",
      "state[T.BC]                         -2639.1321   6065.168     -0.435      0.663   -1.45e+04    9248.745\n",
      "state[T.Bahia]                       2879.8128   6.56e+04      0.044      0.965   -1.26e+05    1.31e+05\n",
      "state[T.Baki]                        1.374e+04   6.73e+04      0.204      0.838   -1.18e+05    1.46e+05\n",
      "state[T.Bali]                        1.512e+04   3.12e+04      0.485      0.628    -4.6e+04    7.63e+04\n",
      "state[T.Bamako]                       -86.8766   6.56e+04     -0.001      0.999   -1.29e+05    1.28e+05\n",
      "state[T.Banaadir]                    8.195e-08   4.02e-07      0.204      0.839   -7.06e-07     8.7e-07\n",
      "state[T.Bangkok]                     1011.0446   2.21e+04      0.046      0.964   -4.24e+04    4.44e+04\n",
      "state[T.Bangui]                     -4086.0561   6.56e+04     -0.062      0.950   -1.33e+05    1.24e+05\n",
      "state[T.Banjul]                      2447.0853   6.56e+04      0.037      0.970   -1.26e+05    1.31e+05\n",
      "state[T.Basilicata]                  1684.1199   6.62e+04      0.025      0.980   -1.28e+05    1.32e+05\n",
      "state[T.Bavaria]                     3.428e+04   1.21e+04      2.844      0.004    1.07e+04    5.79e+04\n",
      "state[T.Beijing]                     3623.6590   1.67e+04      0.217      0.828    -2.9e+04    3.63e+04\n",
      "state[T.Beirut]                      5548.0093   6.57e+04      0.084      0.933   -1.23e+05    1.34e+05\n",
      "state[T.Belize]                       417.6389   4.66e+04      0.009      0.993   -9.08e+04    9.17e+04\n",
      "state[T.Beograd]                     8335.0094      3e+04      0.278      0.781   -5.04e+04    6.71e+04\n",
      "state[T.Berlin]                      1.908e+04   1.09e+04      1.756      0.079   -2218.956    4.04e+04\n",
      "state[T.Bihar]                       5229.6471   3.86e+04      0.135      0.892   -7.05e+04    8.09e+04\n",
      "state[T.Bishkek]                     4628.8920   6.64e+04      0.070      0.944   -1.25e+05    1.35e+05\n",
      "state[T.Bolivar]                    -6553.2183    4.7e+04     -0.140      0.889   -9.86e+04    8.55e+04\n",
      "state[T.Brandenburg]                 7135.7737   2.14e+04      0.333      0.739   -3.49e+04    4.91e+04\n",
      "state[T.Bratislavsky]               -4171.8185   6.56e+04     -0.064      0.949   -1.33e+05    1.24e+05\n",
      "state[T.Bremen]                     -7.251e+04   2.78e+04     -2.609      0.009   -1.27e+05    -1.8e+04\n",
      "state[T.Brittany]                   -9.382e+04   2.43e+04     -3.858      0.000   -1.41e+05   -4.62e+04\n",
      "state[T.Bucuresti]                  -1127.5486   6.56e+04     -0.017      0.986    -1.3e+05    1.27e+05\n",
      "state[T.Budapest]                    1.979e+04   3.02e+04      0.656      0.512   -3.93e+04    7.89e+04\n",
      "state[T.Bulawayo]                    2522.8247   6.79e+04      0.037      0.970   -1.31e+05    1.36e+05\n",
      "state[T.Burgenland]                 -6414.1268   5.03e+04     -0.128      0.898   -1.05e+05    9.21e+04\n",
      "state[T.Burgundy]                   -6178.8808   6.74e+04     -0.092      0.927   -1.38e+05    1.26e+05\n",
      "state[T.CA]                         -1335.7849   6968.461     -0.192      0.848    -1.5e+04    1.23e+04\n",
      "state[T.CO]                          -352.9157   7321.109     -0.048      0.962   -1.47e+04     1.4e+04\n",
      "state[T.CT]                          -963.5967   7962.636     -0.121      0.904   -1.66e+04    1.46e+04\n",
      "state[T.Caguas]                     -1392.6500   6.56e+04     -0.021      0.983    -1.3e+05    1.27e+05\n",
      "state[T.Cairo]                      -1.404e+04   3.35e+04     -0.419      0.675   -7.98e+04    5.17e+04\n",
      "state[T.Calabria]                     803.0472   3.88e+04      0.021      0.983   -7.53e+04    7.69e+04\n",
      "state[T.Campania]                    2817.0640   1.78e+04      0.158      0.874    -3.2e+04    3.77e+04\n",
      "state[T.Campeche]                     674.5161   6.88e+04      0.010      0.992   -1.34e+05    1.36e+05\n",
      "state[T.Cantabria]                  -7990.8840   4.78e+04     -0.167      0.867   -1.02e+05    8.56e+04\n",
      "state[T.Canterbury]                  9395.2942    2.5e+04      0.376      0.707   -3.96e+04    5.84e+04\n",
      "state[T.Carinthia]                   1.681e+04   4.76e+04      0.353      0.724   -7.65e+04     1.1e+05\n",
      "state[T.Catalonia]                  -2513.8717   1.37e+04     -0.183      0.855   -2.94e+04    2.44e+04\n",
      "state[T.Central]                       35.2945   2.57e+04      0.001      0.999   -5.04e+04    5.05e+04\n",
      "state[T.Centre]                     -2.645e+04   4.13e+04     -0.640      0.522   -1.07e+05    5.45e+04\n",
      "state[T.Chiapas]                      581.6469   3.26e+04      0.018      0.986   -6.32e+04    6.44e+04\n",
      "state[T.Chihuahua]                  -5711.4405   3.05e+04     -0.187      0.851   -6.55e+04    5.41e+04\n",
      "state[T.Chinandega]                 -3995.5587   6.56e+04     -0.061      0.951   -1.33e+05    1.25e+05\n",
      "state[T.Chisinau]                     431.8399   4.67e+04      0.009      0.993    -9.1e+04    9.19e+04\n",
      "state[T.Chittagong]                  -960.9124   6.57e+04     -0.015      0.988    -1.3e+05    1.28e+05\n",
      "state[T.Choco]                       -504.0186   6.61e+04     -0.008      0.994    -1.3e+05    1.29e+05\n",
      "state[T.Chongqing]                    1.43e+04   6.59e+04      0.217      0.828   -1.15e+05    1.43e+05\n",
      "state[T.Chuquisaca]                  1.827e+04   6.61e+04      0.276      0.782   -1.11e+05    1.48e+05\n",
      "state[T.Cidra]                        759.5230   4.66e+04      0.016      0.987   -9.07e+04    9.22e+04\n",
      "state[T.Clare]                       2240.0714   3.54e+04      0.063      0.950   -6.71e+04    7.16e+04\n",
      "state[T.Coamo]                      -8772.2144   6.56e+04     -0.134      0.894   -1.37e+05     1.2e+05\n",
      "state[T.Coast]                       -525.5466   6.59e+04     -0.008      0.994    -1.3e+05    1.29e+05\n",
      "state[T.Cochabamba]                   542.2678   6.56e+04      0.008      0.993   -1.28e+05    1.29e+05\n",
      "state[T.Colima]                     -1215.7627   6.56e+04     -0.019      0.985    -1.3e+05    1.27e+05\n",
      "state[T.Conakry]                     4857.4216   6.56e+04      0.074      0.941   -1.24e+05    1.33e+05\n",
      "state[T.Cordoba]                     1.467e+04   6.56e+04      0.224      0.823   -1.14e+05    1.43e+05\n",
      "state[T.Cork]                        4299.8836   2.21e+04      0.194      0.846   -3.91e+04    4.77e+04\n",
      "state[T.Corozal]                     7612.8521   4.67e+04      0.163      0.870   -8.39e+04    9.91e+04\n",
      "state[T.Corsica]                    -4.514e+04   4.92e+04     -0.917      0.359   -1.42e+05    5.13e+04\n",
      "state[T.Cusco]                       4708.3846   3.83e+04      0.123      0.902   -7.04e+04    7.98e+04\n",
      "state[T.DC]                         -1993.0088   7818.668     -0.255      0.799   -1.73e+04    1.33e+04\n",
      "state[T.DE]                          2017.0443   1.04e+04      0.195      0.846   -1.83e+04    2.23e+04\n",
      "state[T.Dakar]                       3793.7074   3.34e+04      0.114      0.910   -6.17e+04    6.93e+04\n",
      "state[T.Dalarna]                      720.6303   4.73e+04      0.015      0.988    -9.2e+04    9.34e+04\n",
      "state[T.Delhi]                      -1363.1127   3.33e+04     -0.041      0.967   -6.66e+04    6.39e+04\n",
      "state[T.Dhaka]                       7526.3870   4.67e+04      0.161      0.872    -8.4e+04     9.9e+04\n",
      "state[T.Djibouti]                   -3093.2082   6.65e+04     -0.046      0.963   -1.34e+05    1.27e+05\n",
      "state[T.Doha]                         754.1819   6.56e+04      0.011      0.991   -1.28e+05    1.29e+05\n",
      "state[T.Drenthe]                     4291.8094   3.62e+04      0.119      0.906   -6.66e+04    7.52e+04\n",
      "state[T.Dubai]                       4454.1142   2.31e+04      0.193      0.847   -4.07e+04    4.97e+04\n",
      "state[T.Dublin]                      4109.5697   1.76e+04      0.234      0.815   -3.03e+04    3.85e+04\n",
      "state[T.Durango]                     -447.1925   6.89e+04     -0.006      0.995   -1.35e+05    1.35e+05\n",
      "state[T.England]                     1.329e+04   8351.159      1.591      0.112   -3082.698    2.97e+04\n",
      "state[T.Estuaire]                     512.1088   6.57e+04      0.008      0.994   -1.28e+05    1.29e+05\n",
      "state[T.Extremadura]                -8604.8840   3.97e+04     -0.217      0.828   -8.63e+04    6.91e+04\n",
      "state[T.FL]                           559.1490   7109.543      0.079      0.937   -1.34e+04    1.45e+04\n",
      "state[T.Fars]                        1581.7333   6.56e+04      0.024      0.981   -1.27e+05     1.3e+05\n",
      "state[T.Flevoland]                  -1.008e+04    3.3e+04     -0.305      0.760   -7.48e+04    5.46e+04\n",
      "state[T.Friesland]                  -5481.2632   2.73e+04     -0.201      0.841    -5.9e+04     4.8e+04\n",
      "state[T.GA]                           532.0320   7277.695      0.073      0.942   -1.37e+04    1.48e+04\n",
      "state[T.Galicia]                     6331.2572   3.01e+04      0.210      0.834   -5.27e+04    6.54e+04\n",
      "state[T.Galway]                     -2398.0543   3.69e+04     -0.065      0.948   -7.48e+04       7e+04\n",
      "state[T.Gauteng]                    -6.146e+04   3.34e+04     -1.840      0.066   -1.27e+05    4025.667\n",
      "state[T.Gavleborg]                  -4.515e-08   5.84e-07     -0.077      0.938   -1.19e-06     1.1e-06\n",
      "state[T.Gaza]                        5107.1074   4.69e+04      0.109      0.913   -8.68e+04     9.7e+04\n",
      "state[T.Goias]                      -1720.6998   6.56e+04     -0.026      0.979    -1.3e+05    1.27e+05\n",
      "state[T.Gotland]                     1.633e+04    6.7e+04      0.244      0.808   -1.15e+05    1.48e+05\n",
      "state[T.Granada]                      185.3837   3.83e+04      0.005      0.996   -7.49e+04    7.53e+04\n",
      "state[T.Grevenmacher]                1795.4623      1e+05      0.018      0.986   -1.94e+05    1.98e+05\n",
      "state[T.Groningen]                   1433.8574   2.58e+04      0.056      0.956   -4.91e+04     5.2e+04\n",
      "state[T.Guanacaste]                  3.199e-08   7.87e-07      0.041      0.968   -1.51e-06    1.57e-06\n",
      "state[T.Guanajuato]                  1794.6963   3.25e+04      0.055      0.956    -6.2e+04    6.56e+04\n",
      "state[T.Guangdong]                   6825.7033    1.6e+04      0.426      0.670   -2.46e+04    3.82e+04\n",
      "state[T.Guangxi]                    -2.368e+04   6.57e+04     -0.360      0.719   -1.52e+05    1.05e+05\n",
      "state[T.Guatemala]                    -45.0307      3e+04     -0.002      0.999   -5.88e+04    5.88e+04\n",
      "state[T.Guayas]                      -567.9984   6.56e+04     -0.009      0.993   -1.29e+05    1.28e+05\n",
      "state[T.Guelders]                    2877.5843   2.04e+04      0.141      0.888   -3.71e+04    4.28e+04\n",
      "state[T.Guerrero]                     866.4342   6.89e+04      0.013      0.990   -1.34e+05    1.36e+05\n",
      "state[T.Gujarat]                     1.153e+04   4.68e+04      0.246      0.806   -8.03e+04    1.03e+05\n",
      "state[T.Gulu]                        6153.0074   6.56e+04      0.094      0.925   -1.22e+05    1.35e+05\n",
      "state[T.Gurabo]                      -124.2381   6.61e+04     -0.002      0.999    -1.3e+05    1.29e+05\n",
      "state[T.HI]                          -991.7164   8626.185     -0.115      0.908   -1.79e+04    1.59e+04\n",
      "state[T.Haifa]                        3.42e+04   6.61e+04      0.518      0.605   -9.53e+04    1.64e+05\n",
      "state[T.Hainault]                    8466.4394   6.91e+04      0.123      0.902   -1.27e+05    1.44e+05\n",
      "state[T.Halland]                     9919.9332   3.49e+04      0.284      0.776   -5.86e+04    7.84e+04\n",
      "state[T.Hamburg]                      389.3585   1.56e+04      0.025      0.980   -3.02e+04     3.1e+04\n",
      "state[T.Harare]                      1.738e+04   6.58e+04      0.264      0.792   -1.12e+05    1.46e+05\n",
      "state[T.Harari]                     -2661.3171   6.56e+04     -0.041      0.968   -1.31e+05    1.26e+05\n",
      "state[T.Haryana]                     1003.7646   6.57e+04      0.015      0.988   -1.28e+05     1.3e+05\n",
      "state[T.Hesse]                       8780.4229    1.6e+04      0.550      0.582   -2.25e+04       4e+04\n",
      "state[T.Hovedstaden]                -5.824e+04   1.48e+04     -3.922      0.000   -8.73e+04   -2.91e+04\n",
      "state[T.Hubei]                       1271.1339   4.65e+04      0.027      0.978   -8.98e+04    9.24e+04\n",
      "state[T.Huila]                      -2850.7965   4.67e+04     -0.061      0.951   -9.44e+04    8.87e+04\n",
      "state[T.IA]                         -1548.3174   8578.465     -0.180      0.857   -1.84e+04    1.53e+04\n",
      "state[T.ID]                          3517.0011   8501.275      0.414      0.679   -1.31e+04    2.02e+04\n",
      "state[T.IL]                          -389.4003   7181.373     -0.054      0.957   -1.45e+04    1.37e+04\n",
      "state[T.IN]                          -703.6468   7657.793     -0.092      0.927   -1.57e+04    1.43e+04\n",
      "state[T.Incheon]                     6396.1976   6.56e+04      0.098      0.922   -1.22e+05    1.35e+05\n",
      "state[T.Inhambane]                   1.184e+04    6.6e+04      0.179      0.858   -1.18e+05    1.41e+05\n",
      "state[T.Istanbul]                    4780.8324   1.99e+04      0.240      0.810   -3.42e+04    4.38e+04\n",
      "state[T.Izola]                       1.697e+04   6.58e+04      0.258      0.796   -1.12e+05    1.46e+05\n",
      "state[T.Jalisco]                     2935.3074    3.9e+04      0.075      0.940   -7.36e+04    7.95e+04\n",
      "state[T.Jayuya]                      3027.4529   6.57e+04      0.046      0.963   -1.26e+05    1.32e+05\n",
      "state[T.Jerusalem]                   2.272e+04      2e+04      1.138      0.255   -1.64e+04    6.18e+04\n",
      "state[T.Jesenice]                    3251.9426   6.76e+04      0.048      0.962   -1.29e+05    1.36e+05\n",
      "state[T.Jharkhand]                   2.916e+04   6.58e+04      0.443      0.658   -9.97e+04    1.58e+05\n",
      "state[T.Jiangsu]                     -213.9267   4.69e+04     -0.005      0.996   -9.21e+04    9.16e+04\n",
      "state[T.Jinja]                       6974.9389   6.56e+04      0.106      0.915   -1.22e+05    1.36e+05\n",
      "state[T.Jonkoping]                    1.73e+04   4.06e+04      0.426      0.670   -6.23e+04    9.69e+04\n",
      "state[T.KS]                           462.4343   8510.217      0.054      0.957   -1.62e+04    1.71e+04\n",
      "state[T.KY]                          -100.1018   8154.909     -0.012      0.990   -1.61e+04    1.59e+04\n",
      "state[T.Kabul]                       -168.9038   3.85e+04     -0.004      0.996   -7.56e+04    7.52e+04\n",
      "state[T.Kalmar]                      1.645e+04   6.72e+04      0.245      0.807   -1.15e+05    1.48e+05\n",
      "state[T.Kampala]                     -478.2586   2.56e+04     -0.019      0.985   -5.07e+04    4.97e+04\n",
      "state[T.Kampot]                      9410.9141   5.06e+04      0.186      0.852   -8.97e+04    1.09e+05\n",
      "state[T.Kankan]                      -576.7767   6.56e+04     -0.009      0.993   -1.29e+05    1.28e+05\n",
      "state[T.Karnataka]                    278.4425      3e+04      0.009      0.993   -5.85e+04    5.91e+04\n",
      "state[T.Kedah]                       7.505e-08   8.25e-07      0.091      0.928   -1.54e-06    1.69e-06\n",
      "state[T.Kerala]                      1.001e+04   6.91e+04      0.145      0.885   -1.25e+05    1.45e+05\n",
      "state[T.Kerry]                       4641.6523   3.06e+04      0.152      0.879   -5.53e+04    6.46e+04\n",
      "state[T.Khowst]                     -2453.1915   6.56e+04     -0.037      0.970   -1.31e+05    1.26e+05\n",
      "state[T.Kildare]                     5366.8035   6.75e+04      0.080      0.937   -1.27e+05    1.38e+05\n",
      "state[T.Kilimanjaro]                -8.564e-09   3.68e-07     -0.023      0.981    -7.3e-07    7.13e-07\n",
      "state[T.Kilkenny]                    2309.4501   4.73e+04      0.049      0.961   -9.04e+04     9.5e+04\n",
      "state[T.Kranj]                      -1.076e+04   6.57e+04     -0.164      0.870   -1.39e+05    1.18e+05\n",
      "state[T.LA]                           368.2904   7949.609      0.046      0.963   -1.52e+04    1.59e+04\n",
      "state[T.Lagos]                       5360.0907   2.43e+04      0.221      0.825   -4.23e+04     5.3e+04\n",
      "state[T.Lagunes]                    -2828.9716   6.54e+04     -0.043      0.965   -1.31e+05    1.25e+05\n",
      "state[T.Laois]                       7454.3609   6.75e+04      0.111      0.912   -1.25e+05     1.4e+05\n",
      "state[T.Lapland]                     4544.0817   6.64e+04      0.068      0.945   -1.26e+05    1.35e+05\n",
      "state[T.Lazio]                       5223.3000   1.33e+04      0.393      0.694   -2.08e+04    3.12e+04\n",
      "state[T.Leiria]                       1.11e+04   6.69e+04      0.166      0.868    -1.2e+05    1.42e+05\n",
      "state[T.Liege]                       8742.2189   6.92e+04      0.126      0.899   -1.27e+05    1.44e+05\n",
      "state[T.Liguria]                     3543.1070   2.33e+04      0.152      0.879   -4.21e+04    4.92e+04\n",
      "state[T.Lilongwe]                     803.1891   6.57e+04      0.012      0.990   -1.28e+05     1.3e+05\n",
      "state[T.Limburg]                     1.078e+04   2.13e+04      0.505      0.613    -3.1e+04    5.26e+04\n",
      "state[T.Limerick]                   -1438.7182   4.95e+04     -0.029      0.977   -9.84e+04    9.55e+04\n",
      "state[T.Limon]                       5020.8005   6.56e+04      0.077      0.939   -1.23e+05    1.34e+05\n",
      "state[T.Limousin]                   -2.249e+04   4.14e+04     -0.543      0.587   -1.04e+05    5.87e+04\n",
      "state[T.Lisbon]                      5956.4885   3.04e+04      0.196      0.845   -5.36e+04    6.55e+04\n",
      "state[T.Ljubljana]                  -7.259e+04   2.18e+04     -3.322      0.001   -1.15e+05   -2.98e+04\n",
      "state[T.Lodz]                       -4.533e+05   4.67e+04     -9.712      0.000   -5.45e+05   -3.62e+05\n",
      "state[T.Lombardy]                    1.154e+04   1.31e+04      0.883      0.378   -1.41e+04    3.72e+04\n",
      "state[T.Longford]                    1.264e+04   6.58e+04      0.192      0.848   -1.16e+05    1.42e+05\n",
      "state[T.Loreto]                      3486.9134   6.56e+04      0.053      0.958   -1.25e+05    1.32e+05\n",
      "state[T.Lorraine]                   -1.054e+04   4.13e+04     -0.255      0.799   -9.16e+04    7.05e+04\n",
      "state[T.Louth]                       5653.0905   6.75e+04      0.084      0.933   -1.27e+05    1.38e+05\n",
      "state[T.Lublin]                      2151.0642   6.58e+04      0.033      0.974   -1.27e+05    1.31e+05\n",
      "state[T.Lusaka]                      5.194e-10   1.36e-07      0.004      0.997   -2.66e-07    2.67e-07\n",
      "state[T.Luxemburg]                    180.3920   6.59e+04      0.003      0.998   -1.29e+05    1.29e+05\n",
      "state[T.MA]                         -5420.0920   7284.817     -0.744      0.457   -1.97e+04    8858.326\n",
      "state[T.MB]                          -270.9190   9321.914     -0.029      0.977   -1.85e+04     1.8e+04\n",
      "state[T.MD]                          4999.9824   7534.109      0.664      0.507   -9767.055    1.98e+04\n",
      "state[T.ME]                           691.7949   8703.358      0.079      0.937   -1.64e+04    1.78e+04\n",
      "state[T.MI]                           513.4742   7292.078      0.070      0.944   -1.38e+04    1.48e+04\n",
      "state[T.MN]                           -93.0377   7426.118     -0.013      0.990   -1.46e+04    1.45e+04\n",
      "state[T.MO]                          -799.6984   7511.349     -0.106      0.915   -1.55e+04    1.39e+04\n",
      "state[T.MS]                          3228.5355   9594.511      0.336      0.736   -1.56e+04     2.2e+04\n",
      "state[T.MT]                           412.8631   9488.307      0.044      0.965   -1.82e+04     1.9e+04\n",
      "state[T.Maale]                       1.213e+04   6.59e+04      0.184      0.854   -1.17e+05    1.41e+05\n",
      "state[T.Madrid]                     -8419.4912   1.31e+04     -0.642      0.521   -3.41e+04    1.73e+04\n",
      "state[T.Madriz]                     -1.228e-08   5.54e-07     -0.022      0.982    -1.1e-06    1.07e-06\n",
      "state[T.Magdalena]                   1.149e+04   6.58e+04      0.175      0.861   -1.17e+05     1.4e+05\n",
      "state[T.Maharashtra]                 5570.1638   2.57e+04      0.216      0.829   -4.49e+04     5.6e+04\n",
      "state[T.Managua]                       89.9515   4.67e+04      0.002      0.998   -9.15e+04    9.17e+04\n",
      "state[T.Marche]                      4978.7246   3.93e+04      0.127      0.899    -7.2e+04    8.19e+04\n",
      "state[T.Masaka]                      -203.5296   6.71e+04     -0.003      0.998   -1.32e+05    1.31e+05\n",
      "state[T.Masovian]                   -3.447e+04   2.16e+04     -1.598      0.110   -7.68e+04    7819.430\n",
      "state[T.Mbale]                      -1433.0476   4.66e+04     -0.031      0.975   -9.29e+04       9e+04\n",
      "state[T.Mexico]                     -3304.0651   3.08e+04     -0.107      0.915   -6.37e+04    5.71e+04\n",
      "state[T.Midtjylland]                -5.109e+04   2.11e+04     -2.419      0.016   -9.25e+04   -9697.002\n",
      "state[T.Minsk]                      -1001.6868   4.68e+04     -0.021      0.983   -9.28e+04    9.08e+04\n",
      "state[T.Monrovia]                    1474.4627   4.67e+04      0.032      0.975   -9.01e+04    9.31e+04\n",
      "state[T.Montevideo]                  3124.3426   6.56e+04      0.048      0.962   -1.25e+05    1.32e+05\n",
      "state[T.Mopti]                      -2557.7301   6.56e+04     -0.039      0.969   -1.31e+05    1.26e+05\n",
      "state[T.Morelos]                     3081.3746   3.92e+04      0.079      0.937   -7.38e+04       8e+04\n",
      "state[T.Murcia]                      -1.23e+04    3.5e+04     -0.352      0.725   -8.08e+04    5.62e+04\n",
      "state[T.Mures]                      -3.759e+04   5.06e+04     -0.743      0.457   -1.37e+05    6.15e+04\n",
      "state[T.Mwanza]                       191.2713   6.58e+04      0.003      0.998   -1.29e+05    1.29e+05\n",
      "state[T.NB]                          -935.6332   1.75e+04     -0.053      0.957   -3.53e+04    3.34e+04\n",
      "state[T.NC]                          -979.6939   7346.940     -0.133      0.894   -1.54e+04    1.34e+04\n",
      "state[T.ND]                          1147.6922   1.26e+04      0.091      0.927   -2.35e+04    2.58e+04\n",
      "state[T.NE]                         -1588.5248   9227.745     -0.172      0.863   -1.97e+04    1.65e+04\n",
      "state[T.NH]                          -862.4284   8780.969     -0.098      0.922   -1.81e+04    1.63e+04\n",
      "state[T.NJ]                          -557.1002   7450.967     -0.075      0.940   -1.52e+04     1.4e+04\n",
      "state[T.NL]                         -2329.2197   2.12e+04     -0.110      0.913    -4.4e+04    3.93e+04\n",
      "state[T.NM]                           860.9966   8329.792      0.103      0.918   -1.55e+04    1.72e+04\n",
      "state[T.NS]                         -4305.1349   1.07e+04     -0.402      0.687   -2.53e+04    1.67e+04\n",
      "state[T.NSW]                        -2469.1555   9730.867     -0.254      0.800   -2.15e+04    1.66e+04\n",
      "state[T.NT]                          3849.8861      2e+04      0.192      0.847   -3.54e+04    4.31e+04\n",
      "state[T.NV]                           895.3941   7595.747      0.118      0.906    -1.4e+04    1.58e+04\n",
      "state[T.NY]                           -32.5866   7010.387     -0.005      0.996   -1.38e+04    1.37e+04\n",
      "state[T.Namur]                       1.099e+04   5.14e+04      0.214      0.831   -8.98e+04    1.12e+05\n",
      "state[T.Napo]                       -2199.0092   6.59e+04     -0.033      0.973   -1.31e+05    1.27e+05\n",
      "state[T.Navarre]                    -3.926e+04   6.66e+04     -0.590      0.555    -1.7e+05    9.13e+04\n",
      "state[T.Nelson]                      1.279e+04   3.96e+04      0.323      0.747   -6.48e+04    9.04e+04\n",
      "state[T.Nord]                        2535.1631   4.68e+04      0.054      0.957   -8.91e+04    9.42e+04\n",
      "state[T.Nordjylland]                -4.039e+04    2.7e+04     -1.497      0.134   -9.33e+04    1.25e+04\n",
      "state[T.Norrbotten]                  1.045e+04    2.9e+04      0.360      0.719   -4.64e+04    6.73e+04\n",
      "state[T.Northland]                   3387.3435   3.51e+04      0.096      0.923   -6.54e+04    7.22e+04\n",
      "state[T.Nyanza]                     -2518.6613   4.68e+04     -0.054      0.957   -9.42e+04    8.91e+04\n",
      "state[T.OH]                           730.2493   7284.141      0.100      0.920   -1.35e+04     1.5e+04\n",
      "state[T.OK]                           503.3779   8164.646      0.062      0.951   -1.55e+04    1.65e+04\n",
      "state[T.ON]                          -643.0344   5405.043     -0.119      0.905   -1.12e+04    9950.982\n",
      "state[T.OR]                          6532.7251   7280.536      0.897      0.370   -7737.303    2.08e+04\n",
      "state[T.Oaxaca]                       871.7174   3.39e+04      0.026      0.980   -6.57e+04    6.74e+04\n",
      "state[T.Offaly]                      3078.1783   4.15e+04      0.074      0.941   -7.82e+04    8.43e+04\n",
      "state[T.Ogun]                       -2054.3836   6.62e+04     -0.031      0.975   -1.32e+05    1.28e+05\n",
      "state[T.Okavango]                    -831.9956   6.56e+04     -0.013      0.990   -1.29e+05    1.28e+05\n",
      "state[T.Orebro]                      1.899e+04   4.06e+04      0.468      0.640   -6.06e+04    9.86e+04\n",
      "state[T.Orellana]                     281.8217   6.58e+04      0.004      0.997   -1.29e+05    1.29e+05\n",
      "state[T.Ostergotland]                1.656e+04   4.07e+04      0.407      0.684   -6.32e+04    9.64e+04\n",
      "state[T.Ostfold]                     -675.0102   6.07e+04     -0.011      0.991    -1.2e+05    1.18e+05\n",
      "state[T.Ostgronland]                -5.115e+04   6.72e+04     -0.762      0.446   -1.83e+05    8.05e+04\n",
      "state[T.Otago]                       6327.4052   3.15e+04      0.201      0.841   -5.54e+04     6.8e+04\n",
      "state[T.Otjozondjupa]                8.472e+04   6.59e+04      1.286      0.199   -4.44e+04    2.14e+05\n",
      "state[T.Ouest]                       2081.3801   2.99e+04      0.070      0.944   -5.65e+04    6.06e+04\n",
      "state[T.Overyssel]                   4702.3358   2.78e+04      0.169      0.866   -4.97e+04    5.91e+04\n",
      "state[T.PA]                         -1848.0127   7228.991     -0.256      0.798    -1.6e+04    1.23e+04\n",
      "state[T.PE]                          1663.1454   2.12e+04      0.078      0.937   -3.99e+04    4.32e+04\n",
      "state[T.Panama]                      1.008e+04    4.7e+04      0.215      0.830   -8.19e+04    1.02e+05\n",
      "state[T.Parana]                      -560.0135   3.83e+04     -0.015      0.988   -7.56e+04    7.45e+04\n",
      "state[T.Penang]                       948.5118   6.56e+04      0.014      0.988   -1.28e+05    1.29e+05\n",
      "state[T.Perak]                       5691.6385   6.57e+04      0.087      0.931   -1.23e+05    1.35e+05\n",
      "state[T.Phuket]                     -1.607e+05   3.34e+04     -4.815      0.000   -2.26e+05   -9.53e+04\n",
      "state[T.Picardy]                    -2.691e+04   6.74e+04     -0.399      0.690   -1.59e+05    1.05e+05\n",
      "state[T.Pichincha]                    618.4649      3e+04      0.021      0.984   -5.81e+04    5.93e+04\n",
      "state[T.Piedmont]                    4658.3968    1.3e+04      0.359      0.720   -2.08e+04    3.01e+04\n",
      "state[T.Pomeranian]                  1.816e+04   6.64e+04      0.273      0.784   -1.12e+05    1.48e+05\n",
      "state[T.Ponce]                       1.077e-08   5.96e-07      0.018      0.986   -1.16e-06    1.18e-06\n",
      "state[T.Prague]                     -1.685e+05   2.08e+04     -8.095      0.000   -2.09e+05   -1.28e+05\n",
      "state[T.Praia]                       1.387e+04    6.7e+04      0.207      0.836   -1.17e+05    1.45e+05\n",
      "state[T.Puducherry]                  3732.4972   6.58e+04      0.057      0.955   -1.25e+05    1.33e+05\n",
      "state[T.Puebla]                      5672.4108   2.93e+04      0.194      0.847   -5.18e+04    6.31e+04\n",
      "state[T.Puglia]                      4080.6086   3.08e+04      0.132      0.895   -5.63e+04    6.44e+04\n",
      "state[T.Punjab]                      1.664e+04    4.7e+04      0.354      0.723   -7.55e+04    1.09e+05\n",
      "state[T.Puntarenas]                  3616.2571   6.56e+04      0.055      0.956   -1.25e+05    1.32e+05\n",
      "state[T.QC]                         -4353.1131   6084.556     -0.715      0.474   -1.63e+04    7572.765\n",
      "state[T.QLD]                         1659.4758   1.02e+04      0.162      0.871   -1.84e+04    2.17e+04\n",
      "state[T.Quetzaltenango]             -2441.2654   4.66e+04     -0.052      0.958   -9.39e+04     8.9e+04\n",
      "state[T.Quindio]                     1954.5295   6.59e+04      0.030      0.976   -1.27e+05    1.31e+05\n",
      "state[T.RI]                          5539.1695   9144.159      0.606      0.545   -1.24e+04    2.35e+04\n",
      "state[T.Radovljica]                 -6680.9311   6.57e+04     -0.102      0.919   -1.36e+05    1.22e+05\n",
      "state[T.Rajasthan]                  -1.225e+05   6.56e+04     -1.868      0.062   -2.51e+05    6011.088\n",
      "state[T.Reykjavik]                   5111.0983   2.43e+04      0.211      0.833   -4.24e+04    5.27e+04\n",
      "state[T.Rize]                        4.475e-08   5.74e-07      0.078      0.938   -1.08e-06    1.17e-06\n",
      "state[T.Rondonia]                      20.8660   6.59e+04      0.000      1.000   -1.29e+05    1.29e+05\n",
      "state[T.SA]                         -1016.1835   1.26e+04     -0.080      0.936   -2.58e+04    2.37e+04\n",
      "state[T.SC]                           828.2980   8029.965      0.103      0.918   -1.49e+04    1.66e+04\n",
      "state[T.SD]                          1381.8602   1.19e+04      0.116      0.907   -2.19e+04    2.46e+04\n",
      "state[T.SK]                         -1259.2998   1.47e+04     -0.085      0.932   -3.02e+04    2.76e+04\n",
      "state[T.Saarland]                     1.12e+04   3.07e+04      0.365      0.715   -4.89e+04    7.13e+04\n",
      "state[T.Sacatepequez]                 612.7007   3.84e+04      0.016      0.987   -7.46e+04    7.58e+04\n",
      "state[T.Salzburg]                   -1.466e+04   2.62e+04     -0.561      0.575   -6.59e+04    3.66e+04\n",
      "state[T.Sardinia]                    5467.9362   3.94e+04      0.139      0.890   -7.18e+04    8.27e+04\n",
      "state[T.Saxony]                      2.569e+04   1.67e+04      1.535      0.125   -7119.806    5.85e+04\n",
      "state[T.Scotland]                    1.179e+04   9161.262      1.287      0.198   -6164.537    2.97e+04\n",
      "state[T.Seoul]                      -5356.1688   1.62e+04     -0.331      0.741   -3.71e+04    2.64e+04\n",
      "state[T.Shandong]                    2660.8593   6.56e+04      0.041      0.968   -1.26e+05    1.31e+05\n",
      "state[T.Shanghai]                   -1.165e+04   1.69e+04     -0.690      0.490   -4.48e+04    2.15e+04\n",
      "state[T.Shanxi]                      2.896e-09    5.8e-07      0.005      0.996   -1.13e-06    1.14e-06\n",
      "state[T.Sharjah]                     1155.3603   6.56e+04      0.018      0.986   -1.27e+05     1.3e+05\n",
      "state[T.Sibiu]                       1816.5391   6.56e+04      0.028      0.978   -1.27e+05     1.3e+05\n",
      "state[T.Sichuan]                    -1.488e+04   4.65e+04     -0.320      0.749   -1.06e+05    7.62e+04\n",
      "state[T.Sicily]                      5576.9134   1.83e+04      0.305      0.760   -3.02e+04    4.14e+04\n",
      "state[T.Sikkim]                     -1.472e-09   4.93e-07     -0.003      0.998   -9.68e-07    9.65e-07\n",
      "state[T.Silesian]                   -1347.1136   6.62e+04     -0.020      0.984   -1.31e+05    1.28e+05\n",
      "state[T.Sinaloa]                      364.7060    4.8e+04      0.008      0.994   -9.37e+04    9.44e+04\n",
      "state[T.Sindh]                        109.8030   6.56e+04      0.002      0.999   -1.28e+05    1.29e+05\n",
      "state[T.Sjaelland]                  -5.207e+04   3.62e+04     -1.440      0.150   -1.23e+05    1.88e+04\n",
      "state[T.Skane]                       1.566e+04   2.04e+04      0.767      0.443   -2.44e+04    5.57e+04\n",
      "state[T.Sligo]                       1.556e+04   6.75e+04      0.231      0.818   -1.17e+05    1.48e+05\n",
      "state[T.Sodermanland]                1.539e+04   4.86e+04      0.317      0.751   -7.98e+04    1.11e+05\n",
      "state[T.Sofiya]                      1.292e+04   6.59e+04      0.196      0.845   -1.16e+05    1.42e+05\n",
      "state[T.Solola]                      1087.9001   3.38e+04      0.032      0.974   -6.52e+04    6.74e+04\n",
      "state[T.Sonora]                       704.1933    3.9e+04      0.018      0.986   -7.57e+04    7.71e+04\n",
      "state[T.Southern]                    1674.4123   3.34e+04      0.050      0.960   -6.37e+04    6.71e+04\n",
      "state[T.Southland]                   5999.4259   4.38e+04      0.137      0.891   -7.99e+04    9.19e+04\n",
      "state[T.Stockholm]                   1.779e+04    1.5e+04      1.185      0.236   -1.16e+04    4.72e+04\n",
      "state[T.Styria]                     -1.435e+04   2.59e+04     -0.555      0.579   -6.51e+04    3.64e+04\n",
      "state[T.Suceava]                     -650.7778   6.56e+04     -0.010      0.992   -1.29e+05    1.28e+05\n",
      "state[T.Sud]                        -4.038e+04   6.74e+04     -0.599      0.549   -1.72e+05    9.17e+04\n",
      "state[T.Svalbard]                   -4242.3573   6.57e+04     -0.065      0.948   -1.33e+05    1.24e+05\n",
      "state[T.Syddanmark]                 -5.011e+04   2.14e+04     -2.344      0.019    -9.2e+04   -8200.978\n",
      "state[T.TAS]                         1381.1783   1.95e+04      0.071      0.944   -3.69e+04    3.96e+04\n",
      "state[T.TN]                          1375.8618   7334.106      0.188      0.851    -1.3e+04    1.58e+04\n",
      "state[T.TX]                          -650.7352   7083.227     -0.092      0.927   -1.45e+04    1.32e+04\n",
      "state[T.Tabasco]                     4.121e-08   4.56e-07      0.090      0.928   -8.52e-07    9.35e-07\n",
      "state[T.Tamaulipas]                 -1372.0478   6.56e+04     -0.021      0.983    -1.3e+05    1.27e+05\n",
      "state[T.Taranaki]                    6509.4104    6.9e+04      0.094      0.925   -1.29e+05    1.42e+05\n",
      "state[T.Tehran]                      3586.4352   4.66e+04      0.077      0.939   -8.78e+04     9.5e+04\n",
      "state[T.Thimphu]                    -3.403e-08   3.94e-07     -0.086      0.931   -8.06e-07    7.38e-07\n",
      "state[T.Thuringia]                   1.841e+04   3.91e+04      0.471      0.638   -5.83e+04    9.51e+04\n",
      "state[T.Timis]                      -7385.2015   6.64e+04     -0.111      0.911   -1.38e+05    1.23e+05\n",
      "state[T.Tipperary]                   1704.3012   6.56e+04      0.026      0.979   -1.27e+05     1.3e+05\n",
      "state[T.Toamasina]                   1.185e+04   6.57e+04      0.180      0.857   -1.17e+05    1.41e+05\n",
      "state[T.Tombouctou]                 -3.532e-08   4.94e-07     -0.072      0.943      -1e-06    9.32e-07\n",
      "state[T.Toshkent]                    9483.6000   6.56e+04      0.145      0.885   -1.19e+05    1.38e+05\n",
      "state[T.Totonicapan]                -1.761e-08   4.61e-07     -0.038      0.970   -9.22e-07    8.87e-07\n",
      "state[T.Tripura]                    -1.138e+04   6.57e+04     -0.173      0.862    -1.4e+05    1.17e+05\n",
      "state[T.Tunis]                       1.437e+04   6.57e+04      0.219      0.827   -1.14e+05    1.43e+05\n",
      "state[T.Tuscany]                     4935.5157   1.53e+04      0.322      0.748   -2.51e+04     3.5e+04\n",
      "state[T.Tyrol]                      -9931.1382   3.17e+04     -0.314      0.754    -7.2e+04    5.21e+04\n",
      "state[T.UT]                         -7103.0372   7459.470     -0.952      0.341   -2.17e+04    7517.704\n",
      "state[T.Ulaanbaatar]                -7053.8441   3.83e+04     -0.184      0.854   -8.22e+04     6.8e+04\n",
      "state[T.Umbria]                      1895.7385   2.37e+04      0.080      0.936   -4.45e+04    4.83e+04\n",
      "state[T.Uppsala]                     1.747e+04    3.6e+04      0.486      0.627    -5.3e+04     8.8e+04\n",
      "state[T.Utrecht]                     3441.4102    1.9e+04      0.181      0.856   -3.38e+04    4.07e+04\n",
      "state[T.Uttarakhand]                  425.4400   6.56e+04      0.006      0.995   -1.28e+05    1.29e+05\n",
      "state[T.Utuado]                      2818.8680   6.56e+04      0.043      0.966   -1.26e+05    1.31e+05\n",
      "state[T.Uusimaa]                    -1.038e+04   2.98e+04     -0.348      0.728   -6.89e+04    4.81e+04\n",
      "state[T.VA]                           -36.5764   7381.317     -0.005      0.996   -1.45e+04    1.44e+04\n",
      "state[T.VIC]                         1213.0183   9915.758      0.122      0.903   -1.82e+04    2.06e+04\n",
      "state[T.VT]                           -12.2138   8895.468     -0.001      0.999   -1.74e+04    1.74e+04\n",
      "state[T.Valencia]                   -2.701e+04    1.8e+04     -1.503      0.133   -6.22e+04    8216.343\n",
      "state[T.Varmland]                    1.837e+04   4.06e+04      0.452      0.651   -6.12e+04     9.8e+04\n",
      "state[T.Varna]                       1.049e+04   6.65e+04      0.158      0.875    -1.2e+05    1.41e+05\n",
      "state[T.Vasterbotten]                 1.44e+04    3.6e+04      0.400      0.689   -5.63e+04    8.51e+04\n",
      "state[T.Vasternorrland]              1.563e+04   6.73e+04      0.232      0.816   -1.16e+05    1.48e+05\n",
      "state[T.Veneto]                      5221.0297   1.59e+04      0.329      0.742   -2.59e+04    3.64e+04\n",
      "state[T.Vestgronland]                6307.7493   6.56e+04      0.096      0.923   -1.22e+05    1.35e+05\n",
      "state[T.Vienna]                     -2392.4302   1.93e+04     -0.124      0.902   -4.03e+04    3.55e+04\n",
      "state[T.Viseu]                       -513.1312   6.56e+04     -0.008      0.994   -1.29e+05    1.28e+05\n",
      "state[T.WA]                         -5713.7547   7185.826     -0.795      0.427   -1.98e+04    8370.639\n",
      "state[T.WI]                          -439.1317   7640.785     -0.057      0.954   -1.54e+04    1.45e+04\n",
      "state[T.WV]                         -1381.4167   1.03e+04     -0.134      0.893   -2.16e+04    1.88e+04\n",
      "state[T.WY]                          1745.2590   1.16e+04      0.150      0.881    -2.1e+04    2.45e+04\n",
      "state[T.Waikato]                     7171.9179   3.96e+04      0.181      0.856   -7.04e+04    8.48e+04\n",
      "state[T.Wales]                        1.29e+04   1.11e+04      1.165      0.244   -8805.317    3.46e+04\n",
      "state[T.Waterford]                   7293.4803   6.75e+04      0.108      0.914   -1.25e+05     1.4e+05\n",
      "state[T.Wellington]                  1302.6572   2.66e+04      0.049      0.961   -5.08e+04    5.34e+04\n",
      "state[T.West]                        5143.7152   4.67e+04      0.110      0.912   -8.63e+04    9.66e+04\n",
      "state[T.Western]                     1496.8041    4.7e+04      0.032      0.975   -9.07e+04    9.36e+04\n",
      "state[T.Westmeath]                   8701.2822   4.92e+04      0.177      0.860   -8.78e+04    1.05e+05\n",
      "state[T.Wexford]                     5741.2486   6.75e+04      0.085      0.932   -1.26e+05    1.38e+05\n",
      "state[T.Wicklow]                    -1.383e+04   4.93e+04     -0.280      0.779    -1.1e+05    8.28e+04\n",
      "state[T.Yambol]                      1.494e+04   6.62e+04      0.226      0.822   -1.15e+05    1.45e+05\n",
      "state[T.Yangon]                      3076.7277   4.68e+04      0.066      0.948   -8.86e+04    9.47e+04\n",
      "state[T.Yerevan]                     -886.4275   6.56e+04     -0.014      0.989   -1.29e+05    1.28e+05\n",
      "state[T.Yona]                        6705.0900   6.56e+04      0.102      0.919   -1.22e+05    1.35e+05\n",
      "state[T.Yucatan]                     2818.3007   3.25e+04      0.087      0.931   -6.09e+04    6.65e+04\n",
      "state[T.Yunnan]                     -4109.2859   4.67e+04     -0.088      0.930   -9.55e+04    8.73e+04\n",
      "state[T.Zacapa]                      4190.0321    6.6e+04      0.064      0.949   -1.25e+05    1.34e+05\n",
      "state[T.Zeeland]                     4892.7510   3.61e+04      0.136      0.892   -6.58e+04    7.56e+04\n",
      "state[T.Zhejiang]                    -123.2513   6.54e+04     -0.002      0.998   -1.28e+05    1.28e+05\n",
      "subcategory[T.academic]             -2095.8880   1.33e+04     -0.158      0.874   -2.81e+04    2.39e+04\n",
      "subcategory[T.accessories]          -2012.1989   3091.722     -0.651      0.515   -8072.048    4047.650\n",
      "subcategory[T.animals]              -1241.0020   7048.652     -0.176      0.860   -1.51e+04    1.26e+04\n",
      "subcategory[T.anthologies]          -7430.7167   1.26e+04     -0.589      0.556   -3.22e+04    1.73e+04\n",
      "subcategory[T.apparel]                403.9184   2600.867      0.155      0.877   -4693.844    5501.681\n",
      "subcategory[T.apps]                 -7.871e+04   5826.266    -13.510      0.000   -9.01e+04   -6.73e+04\n",
      "subcategory[T.architecture]          2252.6245   5129.100      0.439      0.661   -7800.535    1.23e+04\n",
      "subcategory[T.art%20books]          -2438.4357   1.28e+04     -0.191      0.848   -2.74e+04    2.26e+04\n",
      "subcategory[T.audio]                -7.826e+04   9695.382     -8.072      0.000   -9.73e+04   -5.93e+04\n",
      "subcategory[T.bacon]                 2473.8520   1.52e+04      0.162      0.871   -2.74e+04    3.23e+04\n",
      "subcategory[T.blues]                 -719.0472   2.45e+04     -0.029      0.977   -4.86e+04    4.72e+04\n",
      "subcategory[T.calendars]            -2337.5252   1.44e+04     -0.162      0.871   -3.06e+04    2.59e+04\n",
      "subcategory[T.camera%20equipment]   -4.713e+04   8997.411     -5.239      0.000   -6.48e+04   -2.95e+04\n",
      "subcategory[T.candles]                 28.0514   7372.987      0.004      0.997   -1.44e+04    1.45e+04\n",
      "subcategory[T.ceramics]             -5321.1064   7851.603     -0.678      0.498   -2.07e+04    1.01e+04\n",
      "subcategory[T.children]             -2630.2659   1.26e+04     -0.208      0.835   -2.74e+04    2.21e+04\n",
      "subcategory[T.childrenswear]        -1496.7113   5884.640     -0.254      0.799    -1.3e+04       1e+04\n",
      "subcategory[T.chiptune]             -5703.5052   3.23e+04     -0.177      0.860    -6.9e+04    5.75e+04\n",
      "subcategory[T.civic%20design]       -1355.0330   6994.239     -0.194      0.846   -1.51e+04    1.24e+04\n",
      "subcategory[T.classical%20music]      681.4874    2.3e+04      0.030      0.976   -4.44e+04    4.58e+04\n",
      "subcategory[T.comedy]                 986.6763   1.28e+04      0.077      0.938    -2.4e+04     2.6e+04\n",
      "subcategory[T.comic%20books]         -978.7604   1.29e+04     -0.076      0.940   -2.63e+04    2.43e+04\n",
      "subcategory[T.community%20gardens]   3190.3558   1.44e+04      0.221      0.825   -2.51e+04    3.15e+04\n",
      "subcategory[T.conceptual%20art]     -4214.0128   4448.154     -0.947      0.343   -1.29e+04    4504.476\n",
      "subcategory[T.cookbooks]             -480.2617   1.35e+04     -0.036      0.972   -2.69e+04    2.59e+04\n",
      "subcategory[T.country%20]           -2423.0236   2.29e+04     -0.106      0.916   -4.74e+04    4.25e+04\n",
      "subcategory[T.couture]               -172.4281   8085.420     -0.021      0.983    -1.6e+04    1.57e+04\n",
      "subcategory[T.crochet]               -144.2567   1.16e+04     -0.012      0.990   -2.28e+04    2.25e+04\n",
      "subcategory[T.digital%20art]        -5569.7274   4143.605     -1.344      0.179   -1.37e+04    2551.838\n",
      "subcategory[T.diy]                    -83.7144   5401.549     -0.015      0.988   -1.07e+04    1.05e+04\n",
      "subcategory[T.diy%20electronics]    -8.665e+04   7247.661    -11.955      0.000   -1.01e+05   -7.24e+04\n",
      "subcategory[T.drinks]                3441.4332   1.24e+04      0.277      0.782   -2.09e+04    2.78e+04\n",
      "subcategory[T.electronic%20music]   -2310.3767    2.3e+04     -0.100      0.920   -4.75e+04    4.28e+04\n",
      "subcategory[T.embroidery]             726.7652    1.2e+04      0.061      0.952   -2.27e+04    2.42e+04\n",
      "subcategory[T.events]                3050.6021   1.23e+04      0.247      0.805   -2.11e+04    2.72e+04\n",
      "subcategory[T.experimental]          1282.2121   1.46e+04      0.088      0.930   -2.73e+04    2.99e+04\n",
      "subcategory[T.fabrication%20tools]  -4.462e+04   1.09e+04     -4.086      0.000    -6.6e+04   -2.32e+04\n",
      "subcategory[T.faith]                 -732.3027   2.32e+04     -0.032      0.975   -4.62e+04    4.48e+04\n",
      "subcategory[T.farmer]                3248.4439   1.38e+04      0.235      0.814   -2.38e+04    3.03e+04\n",
      "subcategory[T.farms]                 3705.7375   1.28e+04      0.291      0.771   -2.13e+04    2.87e+04\n",
      "subcategory[T.festivals]             2621.5699    1.4e+04      0.188      0.851   -2.48e+04       3e+04\n",
      "subcategory[T.fiction]              -1807.0815   1.26e+04     -0.143      0.886   -2.66e+04     2.3e+04\n",
      "subcategory[T.fine%20art]             814.8345   4790.778      0.170      0.865   -8575.208    1.02e+04\n",
      "subcategory[T.flight]               -7.094e+04   9017.738     -7.867      0.000   -8.86e+04   -5.33e+04\n",
      "subcategory[T.food%20trucks]         2621.9868   1.25e+04      0.209      0.834    -2.2e+04    2.72e+04\n",
      "subcategory[T.footwear]              1461.3532   4850.840      0.301      0.763   -8046.410     1.1e+04\n",
      "subcategory[T.gadgets]              -7.887e+04   6089.107    -12.952      0.000   -9.08e+04   -6.69e+04\n",
      "subcategory[T.gaming%20hardware]     1.714e+04   6937.358      2.471      0.013    3547.013    3.07e+04\n",
      "subcategory[T.glass]                  391.0800   1.21e+04      0.032      0.974   -2.32e+04     2.4e+04\n",
      "subcategory[T.graphic%20design]     -1608.7625   3616.377     -0.445      0.656   -8696.949    5479.424\n",
      "subcategory[T.graphic%20novels]     -3454.5646    1.3e+04     -0.266      0.791    -2.9e+04     2.2e+04\n",
      "subcategory[T.hardware]             -6.466e+04   5936.600    -10.893      0.000   -7.63e+04    -5.3e+04\n",
      "subcategory[T.hip]                  -1170.6997    2.3e+04     -0.051      0.959   -4.62e+04    4.38e+04\n",
      "subcategory[T.illustration]         -7012.3170   2873.614     -2.440      0.015   -1.26e+04   -1379.963\n",
      "subcategory[T.immersive]             3615.8071   1.49e+04      0.242      0.809   -2.56e+04    3.29e+04\n",
      "subcategory[T.indie%20rock]         -2680.5090   2.29e+04     -0.117      0.907   -4.76e+04    4.23e+04\n",
      "subcategory[T.installations]        -4525.2555   6487.086     -0.698      0.485   -1.72e+04    8189.591\n",
      "subcategory[T.interactive%20design]  1425.7530   6640.647      0.215      0.830   -1.16e+04    1.44e+04\n",
      "subcategory[T.jazz]                 -2110.8188   2.31e+04     -0.091      0.927   -4.73e+04    4.31e+04\n",
      "subcategory[T.jewelry]               -836.7042   4137.521     -0.202      0.840   -8946.346    7272.938\n",
      "subcategory[T.kids]                  -638.9387   2.44e+04     -0.026      0.979   -4.85e+04    4.72e+04\n",
      "subcategory[T.knitting]             -1346.3645   9466.658     -0.142      0.887   -1.99e+04    1.72e+04\n",
      "subcategory[T.latin]                 -140.9510    2.6e+04     -0.005      0.996   -5.11e+04    5.08e+04\n",
      "subcategory[T.letterpress]          -1496.8646   2.59e+04     -0.058      0.954   -5.23e+04    4.93e+04\n",
      "subcategory[T.literary%20journals]  -3856.7091    1.5e+04     -0.257      0.797   -3.33e+04    2.56e+04\n",
      "subcategory[T.literary%20spaces]    -7535.7759   3.44e+04     -0.219      0.827    -7.5e+04    5.99e+04\n",
      "subcategory[T.live%20games]          6638.8648   4285.302      1.549      0.121   -1760.432     1.5e+04\n",
      "subcategory[T.makerspaces]          -7.735e+04   1.17e+04     -6.601      0.000      -1e+05   -5.44e+04\n",
      "subcategory[T.metal]                -3735.8612   2.34e+04     -0.160      0.873   -4.96e+04    4.21e+04\n",
      "subcategory[T.mixed%20media]        -4835.7527   3022.558     -1.600      0.110   -1.08e+04    1088.535\n",
      "subcategory[T.mobile%20games]        7605.5765   3368.781      2.258      0.024    1002.684    1.42e+04\n",
      "subcategory[T.musical]               1269.9122   1.34e+04      0.094      0.925   -2.51e+04    2.76e+04\n",
      "subcategory[T.nature]               -1137.6293   5425.389     -0.210      0.834   -1.18e+04    9496.264\n",
      "subcategory[T.nonfiction]           -2651.1407   1.26e+04     -0.210      0.834   -2.74e+04    2.21e+04\n",
      "subcategory[T.painting]             -4744.8215   2833.052     -1.675      0.094   -1.03e+04     808.028\n",
      "subcategory[T.people]               -2016.0638   4035.997     -0.500      0.617   -9926.715    5894.587\n",
      "subcategory[T.performance%20art]    -5151.5893   3206.906     -1.606      0.108   -1.14e+04    1134.025\n",
      "subcategory[T.performances]          2760.5224   1.61e+04      0.172      0.864   -2.87e+04    3.43e+04\n",
      "subcategory[T.periodicals]          -2133.0485    1.3e+04     -0.164      0.870   -2.77e+04    2.34e+04\n",
      "subcategory[T.pet%20fashion]        -1741.2160   9789.936     -0.178      0.859   -2.09e+04    1.74e+04\n",
      "subcategory[T.photo]                -7.811e+04   1.35e+04     -5.789      0.000   -1.05e+05   -5.17e+04\n",
      "subcategory[T.photobooks]              98.7575   3690.042      0.027      0.979   -7133.814    7331.329\n",
      "subcategory[T.places]                -713.3735   4913.883     -0.145      0.885   -1.03e+04    8917.956\n",
      "subcategory[T.playing%20cards]      -2136.8307   3204.609     -0.667      0.505   -8417.943    4144.281\n",
      "subcategory[T.plays]                 1855.1941   1.33e+04      0.140      0.889   -2.42e+04    2.79e+04\n",
      "subcategory[T.poetry]                -734.6733    1.3e+04     -0.056      0.955   -2.63e+04    2.48e+04\n",
      "subcategory[T.pop]                  -1579.9882    2.3e+04     -0.069      0.945   -4.66e+04    4.35e+04\n",
      "subcategory[T.pottery]              -1710.9004   1.58e+04     -0.109      0.914   -3.26e+04    2.92e+04\n",
      "subcategory[T.print]                -7.964e+04   8864.375     -8.984      0.000    -9.7e+04   -6.23e+04\n",
      "subcategory[T.printing]               181.4893   1.06e+04      0.017      0.986   -2.05e+04    2.09e+04\n",
      "subcategory[T.product%20design]      4767.0179   3106.137      1.535      0.125   -1321.086    1.09e+04\n",
      "subcategory[T.public%20art]         -6548.2602   2777.439     -2.358      0.018    -1.2e+04   -1104.412\n",
      "subcategory[T.punk]                 -1071.9028    2.4e+04     -0.045      0.964   -4.82e+04     4.6e+04\n",
      "subcategory[T.puzzles]               2858.4876   8174.653      0.350      0.727   -1.32e+04    1.89e+04\n",
      "subcategory[T.quilts]                -461.7722   1.44e+04     -0.032      0.974   -2.87e+04    2.77e+04\n",
      "subcategory[T.r]                     -771.5870   2.36e+04     -0.033      0.974    -4.7e+04    4.55e+04\n",
      "subcategory[T.radio%20]             -1715.8948   1.32e+04     -0.130      0.897   -2.76e+04    2.42e+04\n",
      "subcategory[T.ready]                  108.8583   4859.310      0.022      0.982   -9415.508    9633.225\n",
      "subcategory[T.residencies]          -1694.7067   2.28e+04     -0.074      0.941   -4.64e+04     4.3e+04\n",
      "subcategory[T.restaurants]           4028.9779   1.24e+04      0.325      0.745   -2.02e+04    2.83e+04\n",
      "subcategory[T.robots]                -5.91e+04   8133.567     -7.266      0.000    -7.5e+04   -4.32e+04\n",
      "subcategory[T.rock]                 -2685.5371   2.29e+04     -0.117      0.907   -4.76e+04    4.23e+04\n",
      "subcategory[T.sculpture]            -4939.2484   3492.271     -1.414      0.157   -1.18e+04    1905.688\n",
      "subcategory[T.small%20batch]         2733.0841   1.25e+04      0.219      0.827   -2.18e+04    2.72e+04\n",
      "subcategory[T.software]             -7.964e+04   6030.470    -13.207      0.000   -9.15e+04   -6.78e+04\n",
      "subcategory[T.sound]                -4.969e+04   7818.451     -6.356      0.000    -6.5e+04   -3.44e+04\n",
      "subcategory[T.space%20exploration]  -8.133e+04   9949.030     -8.175      0.000   -1.01e+05   -6.18e+04\n",
      "subcategory[T.spaces]                3875.2117   1.23e+04      0.314      0.753   -2.03e+04    2.81e+04\n",
      "subcategory[T.stationery]           -1250.1167   9999.951     -0.125      0.901   -2.09e+04    1.84e+04\n",
      "subcategory[T.tabletop%20games]     -1.084e+04   2428.656     -4.462      0.000   -1.56e+04   -6076.459\n",
      "subcategory[T.taxidermy]             -336.5155   3.51e+04     -0.010      0.992   -6.91e+04    6.85e+04\n",
      "subcategory[T.textiles]             -5698.8851   9044.977     -0.630      0.529   -2.34e+04     1.2e+04\n",
      "subcategory[T.translations]         -1842.8774   1.72e+04     -0.107      0.915   -3.55e+04    3.18e+04\n",
      "subcategory[T.typography]           -1.214e+04   1.17e+04     -1.036      0.300   -3.51e+04    1.08e+04\n",
      "subcategory[T.vegan]                  289.4440   1.36e+04      0.021      0.983   -2.64e+04     2.7e+04\n",
      "subcategory[T.video]                -7.849e+04   1.01e+04     -7.748      0.000   -9.83e+04   -5.86e+04\n",
      "subcategory[T.video%20art]          -5138.1729   9221.119     -0.557      0.577   -2.32e+04    1.29e+04\n",
      "subcategory[T.video%20games]        -3.379e+04   2431.422    -13.896      0.000   -3.86e+04    -2.9e+04\n",
      "subcategory[T.wearables]            -6.034e+04   6801.063     -8.872      0.000   -7.37e+04    -4.7e+04\n",
      "subcategory[T.weaving]              -1412.4769   1.42e+04     -0.100      0.921   -2.92e+04    2.64e+04\n",
      "subcategory[T.web]                  -7.843e+04   5933.209    -13.219      0.000   -9.01e+04   -6.68e+04\n",
      "subcategory[T.webcomics]            -1.082e+04   1.37e+04     -0.792      0.429   -3.76e+04     1.6e+04\n",
      "subcategory[T.woodworking]            350.2298   5291.626      0.066      0.947      -1e+04    1.07e+04\n",
      "subcategory[T.workshops]             1897.0024   1.85e+04      0.102      0.918   -3.44e+04    3.82e+04\n",
      "subcategory[T.world%20music]        -1757.9132    2.3e+04     -0.076      0.939   -4.69e+04    4.34e+04\n",
      "subcategory[T.young%20adult]          293.4932   1.34e+04      0.022      0.982   -2.59e+04    2.65e+04\n",
      "subcategory[T.zines]                -2039.4171   1.43e+04     -0.142      0.887   -3.01e+04    2.61e+04\n",
      "time_bw_create_launch                  -0.0930      3.068     -0.030      0.976      -6.106       5.920\n",
      "projectlength_days                    111.3526     27.226      4.090      0.000      57.990     164.716\n",
      "backers_count                         103.4376      0.421    245.437      0.000     102.612     104.264\n",
      "==============================================================================\n",
      "Omnibus:                   113293.648   Durbin-Watson:                   2.000\n",
      "Prob(Omnibus):                  0.000   Jarque-Bera (JB):      25089650815.528\n",
      "Skew:                          37.177   Prob(JB):                         0.00\n",
      "Kurtosis:                    3888.335   Cond. No.                     1.87e+21\n",
      "==============================================================================\n",
      "\n",
      "Warnings:\n",
      "[1] Standard Errors assume that the covariance matrix of the errors is correctly specified.\n",
      "[2] The smallest eigenvalue is 7.8e-33. This might indicate that there are\n",
      "strong multicollinearity problems or that the design matrix is singular.\n"
     ]
    }
   ],
   "source": [
    "model = sm.OLS(y, X)       # Set up the model\n",
    "result = model.fit()       # Fit model (find the intercept and slopes)\n",
    "print result.summary()"
   ]
  },
  {
   "cell_type": "code",
   "execution_count": 282,
   "metadata": {},
   "outputs": [
    {
     "data": {
      "text/plain": [
       "staff_pick[T.True]                    4.967591e-09\n",
       "category1[T.design]                   2.081657e-02\n",
       "category1[T.film]                     1.049360e-04\n",
       "category1[T.games]                    1.225745e-08\n",
       "category1[T.journalism]               2.268555e-26\n",
       "category1[T.technology]               1.237136e-43\n",
       "state[T.Anhui]                        1.180612e-17\n",
       "state[T.Bavaria]                      4.458735e-03\n",
       "state[T.Bremen]                       9.078454e-03\n",
       "state[T.Brittany]                     1.145189e-04\n",
       "state[T.Hovedstaden]                  8.786243e-05\n",
       "state[T.Ljubljana]                    8.940548e-04\n",
       "state[T.Lodz]                         2.839422e-22\n",
       "state[T.Midtjylland]                  1.555923e-02\n",
       "state[T.Phuket]                       1.475025e-06\n",
       "state[T.Prague]                       5.912120e-16\n",
       "state[T.Syddanmark]                   1.910633e-02\n",
       "subcategory[T.apps]                   1.688368e-41\n",
       "subcategory[T.audio]                  7.135946e-16\n",
       "subcategory[T.camera%20equipment]     1.625623e-07\n",
       "subcategory[T.diy%20electronics]      6.978627e-33\n",
       "subcategory[T.fabrication%20tools]    4.388863e-05\n",
       "subcategory[T.flight]                 3.731749e-15\n",
       "subcategory[T.gadgets]                2.741244e-38\n",
       "subcategory[T.gaming%20hardware]      1.346589e-02\n",
       "subcategory[T.hardware]               1.369681e-27\n",
       "subcategory[T.illustration]           1.468177e-02\n",
       "subcategory[T.makerspaces]            4.145359e-11\n",
       "subcategory[T.mobile%20games]         2.397205e-02\n",
       "subcategory[T.photo]                  7.138984e-09\n",
       "subcategory[T.print]                  2.722301e-19\n",
       "subcategory[T.public%20art]           1.839534e-02\n",
       "subcategory[T.robots]                 3.780891e-13\n",
       "subcategory[T.software]               9.749873e-40\n",
       "subcategory[T.sound]                  2.097964e-10\n",
       "subcategory[T.space%20exploration]    3.055968e-16\n",
       "subcategory[T.tabletop%20games]       8.141991e-06\n",
       "subcategory[T.video]                  9.547314e-15\n",
       "subcategory[T.video%20games]          8.544174e-44\n",
       "subcategory[T.wearables]              7.449099e-19\n",
       "subcategory[T.web]                    8.277550e-40\n",
       "projectlength_days                    4.322551e-05\n",
       "backers_count                         0.000000e+00\n",
       "dtype: float64"
      ]
     },
     "execution_count": 282,
     "metadata": {},
     "output_type": "execute_result"
    }
   ],
   "source": [
    "p_values=result.pvalues\n",
    "p_values[p_values<=.05]"
   ]
  },
  {
   "cell_type": "code",
   "execution_count": 283,
   "metadata": {
    "collapsed": true
   },
   "outputs": [],
   "source": [
    "formula = 'status ~ 0+projectlength_days+backers_count+staff_pick+category1+country+state+subcategory'\n",
    "Y, X = dmatrices(formula, df, return_type='dataframe')\n",
    "y=Y['status'].values"
   ]
  },
  {
   "cell_type": "code",
   "execution_count": 284,
   "metadata": {
    "collapsed": true
   },
   "outputs": [],
   "source": [
    "X_train, X_test, y_train, y_test = train_test_split(X, y, test_size=0.3, random_state=1)\n"
   ]
  },
  {
   "cell_type": "code",
   "execution_count": 285,
   "metadata": {
    "collapsed": true
   },
   "outputs": [],
   "source": [
    "model = LogisticRegression()\n",
    "result = model.fit(X_train, y_train)\n"
   ]
  },
  {
   "cell_type": "code",
   "execution_count": 286,
   "metadata": {},
   "outputs": [
    {
     "name": "stdout",
     "output_type": "stream",
     "text": [
      "Training Accuracy: 0.840278026585\n",
      "Test Accuracy: 0.837164590822\n",
      "Recall 0.700583279326\n"
     ]
    }
   ],
   "source": [
    "prediction_train = model.predict(X_train)\n",
    "prediction = model.predict(X_test)\n",
    "print 'Training Accuracy:',metrics.accuracy_score(y_train, prediction_train)\n",
    "print 'Test Accuracy:',metrics.accuracy_score(y_test, prediction)\n",
    "print 'Recall',metrics.recall_score(y_test,prediction)"
   ]
  },
  {
   "cell_type": "code",
   "execution_count": 287,
   "metadata": {},
   "outputs": [
    {
     "data": {
      "text/plain": [
       "array([[6772,  562],\n",
       "       [1386, 3243]])"
      ]
     },
     "execution_count": 287,
     "metadata": {},
     "output_type": "execute_result"
    }
   ],
   "source": [
    "confusion_matrix(y_test,prediction)"
   ]
  },
  {
   "cell_type": "code",
   "execution_count": 288,
   "metadata": {},
   "outputs": [
    {
     "name": "stdout",
     "output_type": "stream",
     "text": [
      "Baseline accuracy = 0.61305692552\n"
     ]
    }
   ],
   "source": [
    "negative_examples_in_test = len(y_test[y_test==0])\n",
    "total_examples_in_test = len(y_test)\n",
    "\n",
    "print 'Baseline accuracy =', negative_examples_in_test * 1.0 / total_examples_in_test"
   ]
  },
  {
   "cell_type": "code",
   "execution_count": 289,
   "metadata": {},
   "outputs": [
    {
     "data": {
      "text/plain": [
       "country[T.GB]                   -1.881956\n",
       "subcategory[T.mobile%20games]   -1.221055\n",
       "subcategory[T.hip]              -1.068824\n",
       "subcategory[T.architecture]     -0.951407\n",
       "category1[T.technology]         -0.870659\n",
       "dtype: float64"
      ]
     },
     "execution_count": 289,
     "metadata": {},
     "output_type": "execute_result"
    }
   ],
   "source": [
    "weights = Series(model.coef_[0],\n",
    "                 index=X.columns.values)\n",
    "weights.sort_values()[:5]"
   ]
  },
  {
   "cell_type": "code",
   "execution_count": 290,
   "metadata": {},
   "outputs": [
    {
     "data": {
      "text/plain": [
       "subcategory[T.tabletop%20games]    3.010719\n",
       "subcategory[T.product%20design]    1.897134\n",
       "subcategory[T.indie%20rock]        1.107076\n",
       "country[T.SE]                      1.084520\n",
       "subcategory[T.rock]                1.057477\n",
       "dtype: float64"
      ]
     },
     "execution_count": 290,
     "metadata": {},
     "output_type": "execute_result"
    }
   ],
   "source": [
    "weights.sort_values(ascending=False)[:5]"
   ]
  },
  {
   "cell_type": "markdown",
   "metadata": {},
   "source": [
    "### Logistic (Creators View)"
   ]
  },
  {
   "cell_type": "markdown",
   "metadata": {},
   "source": [
    "Unfortunately the variables in the logistic regression performed in the previous section aren’t always up to the creator of the kickstarter. To see if we can better predict the success of a kickstarter only variables in the control of kickstarter were considered. "
   ]
  },
  {
   "cell_type": "code",
   "execution_count": 291,
   "metadata": {},
   "outputs": [],
   "source": [
    "formula = 'status ~ 0+projectlength_days+goal+category1+country+state+subcategory'\n",
    "Y, X = dmatrices(formula, df, return_type='dataframe')\n",
    "y=Y['status'].values"
   ]
  },
  {
   "cell_type": "code",
   "execution_count": 292,
   "metadata": {
    "collapsed": true
   },
   "outputs": [],
   "source": [
    "X_train, X_test, y_train, y_test = train_test_split(X, y, test_size=0.3, random_state=1)\n"
   ]
  },
  {
   "cell_type": "code",
   "execution_count": 293,
   "metadata": {
    "collapsed": true
   },
   "outputs": [],
   "source": [
    "model = LogisticRegression()\n",
    "result = model.fit(X_train, y_train)\n"
   ]
  },
  {
   "cell_type": "code",
   "execution_count": 294,
   "metadata": {},
   "outputs": [
    {
     "name": "stdout",
     "output_type": "stream",
     "text": [
      "Training Accuracy: 0.610189531009\n",
      "Test Accuracy: 0.61305692552\n"
     ]
    }
   ],
   "source": [
    "prediction_train = model.predict(X_train)\n",
    "prediction = model.predict(X_test)\n",
    "print 'Training Accuracy:',metrics.accuracy_score(y_train, prediction_train)\n",
    "print 'Test Accuracy:',metrics.accuracy_score(y_test, prediction)"
   ]
  },
  {
   "cell_type": "markdown",
   "metadata": {},
   "source": [
    "There was a significant decline in model accuracy, which is essentially the base line. This indicated that a logistic regression might not be able to predict the success of a project."
   ]
  },
  {
   "cell_type": "code",
   "execution_count": 295,
   "metadata": {},
   "outputs": [
    {
     "name": "stdout",
     "output_type": "stream",
     "text": [
      "negatively correlated variables\n"
     ]
    },
    {
     "data": {
      "text/plain": [
       "projectlength_days      -0.008336\n",
       "country[T.GB]           -0.000147\n",
       "state[T.England]        -0.000126\n",
       "category1[technology]   -0.000106\n",
       "category1[food]         -0.000079\n",
       "dtype: float64"
      ]
     },
     "execution_count": 295,
     "metadata": {},
     "output_type": "execute_result"
    }
   ],
   "source": [
    "model.coef_\n",
    "weights = Series(model.coef_[0],\n",
    "                 index=X.columns.values)\n",
    "print 'negatively correlated variables'\n",
    "weights.sort_values()[:5]"
   ]
  },
  {
   "cell_type": "code",
   "execution_count": 296,
   "metadata": {},
   "outputs": [
    {
     "name": "stdout",
     "output_type": "stream",
     "text": [
      "Positively correlated variables\n"
     ]
    },
    {
     "data": {
      "text/plain": [
       "subcategory[T.tabletop%20games]    0.000091\n",
       "subcategory[T.product%20design]    0.000085\n",
       "category1[music]                   0.000073\n",
       "category1[design]                  0.000071\n",
       "category1[games]                   0.000066\n",
       "dtype: float64"
      ]
     },
     "execution_count": 296,
     "metadata": {},
     "output_type": "execute_result"
    }
   ],
   "source": [
    "print 'Positively correlated variables'\n",
    "weights.sort_values(ascending=False)[:5]"
   ]
  },
  {
   "cell_type": "markdown",
   "metadata": {},
   "source": [
    "### Random Forest"
   ]
  },
  {
   "cell_type": "markdown",
   "metadata": {},
   "source": [
    "Because the previous logistic regression performed poorly, two other modeling techniques were used to see if there could be an improvement in accuracy"
   ]
  },
  {
   "cell_type": "code",
   "execution_count": 297,
   "metadata": {
    "scrolled": true
   },
   "outputs": [
    {
     "name": "stdout",
     "output_type": "stream",
     "text": [
      "Time Taken: 7.26082086563\n"
     ]
    }
   ],
   "source": [
    "t0=time()\n",
    "parameters = {'n_estimators':sp_randint(50, 500), 'max_depth':sp_randint(10, 50),'criterion':('gini','entropy')}\n",
    "RF =ensemble.RandomForestClassifier()\n",
    "random_search = RandomizedSearchCV(RF, param_distributions=parameters,n_iter=20,n_jobs=-1)\n",
    "result=random_search.fit(X_train,y_train)\n",
    "print 'Time Taken:',(time()-t0)/60.0"
   ]
  },
  {
   "cell_type": "code",
   "execution_count": 298,
   "metadata": {},
   "outputs": [
    {
     "name": "stdout",
     "output_type": "stream",
     "text": [
      "Best Model:\n"
     ]
    },
    {
     "data": {
      "text/plain": [
       "RandomForestClassifier(bootstrap=True, class_weight=None, criterion='gini',\n",
       "            max_depth=33, max_features='auto', max_leaf_nodes=None,\n",
       "            min_impurity_decrease=0.0, min_impurity_split=None,\n",
       "            min_samples_leaf=1, min_samples_split=2,\n",
       "            min_weight_fraction_leaf=0.0, n_estimators=348, n_jobs=1,\n",
       "            oob_score=False, random_state=None, verbose=0,\n",
       "            warm_start=False)"
      ]
     },
     "execution_count": 298,
     "metadata": {},
     "output_type": "execute_result"
    }
   ],
   "source": [
    "print 'Best Model:'\n",
    "result.best_estimator_"
   ]
  },
  {
   "cell_type": "code",
   "execution_count": 299,
   "metadata": {
    "collapsed": true
   },
   "outputs": [],
   "source": [
    "RF =ensemble.RandomForestClassifier(n_estimators=350,criterion='gini',max_depth=33,n_jobs=-1)\n",
    "result=RF.fit(X_train,y_train)"
   ]
  },
  {
   "cell_type": "code",
   "execution_count": 300,
   "metadata": {},
   "outputs": [
    {
     "name": "stdout",
     "output_type": "stream",
     "text": [
      "Feature                                Importance\n",
      "goal                                  0.221185\n",
      "projectlength_days                    0.155069\n",
      "subcategory[T.tabletop%20games]       0.0593052\n",
      "subcategory[T.product%20design]       0.0428296\n",
      "country[T.GB]                         0.0252844\n",
      "country[T.US]                         0.019839\n",
      "state[T.England]                      0.0180187\n",
      "\n"
     ]
    }
   ],
   "source": [
    "from tabulate import tabulate\n",
    "headers = [\"Feature\", \"Importance\"]\n",
    "importance_values = sorted(zip(X_train.columns, result.feature_importances_), key=lambda x: x[1] * -1)\n",
    "print(tabulate(importance_values, headers, tablefmt=\"plain\")[:383])"
   ]
  },
  {
   "cell_type": "code",
   "execution_count": 301,
   "metadata": {},
   "outputs": [
    {
     "name": "stdout",
     "output_type": "stream",
     "text": [
      "Training Accuracy: 0.841711153309\n",
      "Test Accuracy: 0.733846025245\n",
      "Recall Score 0.49362713329\n"
     ]
    }
   ],
   "source": [
    "prediction_train = result.predict(X_train)\n",
    "prediction = result.predict(X_test)\n",
    "print 'Training Accuracy:',metrics.accuracy_score(y_train, prediction_train)\n",
    "print 'Test Accuracy:',metrics.accuracy_score(y_test, prediction)\n",
    "print 'Recall Score',metrics.recall_score(y_test,prediction)"
   ]
  },
  {
   "cell_type": "markdown",
   "metadata": {},
   "source": [
    "There was a significant improvement in accuracy using a 'creators' perspective. However the model was only able to predict 50% of the positive class."
   ]
  },
  {
   "cell_type": "code",
   "execution_count": 302,
   "metadata": {},
   "outputs": [
    {
     "data": {
      "text/plain": [
       "array([[6494,  840],\n",
       "       [2344, 2285]])"
      ]
     },
     "execution_count": 302,
     "metadata": {},
     "output_type": "execute_result"
    }
   ],
   "source": [
    "confusion_matrix(y_true=y_test,y_pred=prediction)"
   ]
  },
  {
   "cell_type": "markdown",
   "metadata": {},
   "source": [
    "### Boosting"
   ]
  },
  {
   "cell_type": "markdown",
   "metadata": {},
   "source": [
    "##### XGBoost needs specific pre-processing on column names"
   ]
  },
  {
   "cell_type": "code",
   "execution_count": 303,
   "metadata": {},
   "outputs": [],
   "source": [
    "# create a list of numbers from 0 to the length of the columns names\n",
    "header_list=pd.DataFrame((range(0,len(list(X_train)))))\n",
    "header_list=header_list.astype(str)\n",
    "header_list=header_list.transpose()"
   ]
  },
  {
   "cell_type": "code",
   "execution_count": 304,
   "metadata": {
    "scrolled": true
   },
   "outputs": [],
   "source": [
    "header=header_list.iloc[0]"
   ]
  },
  {
   "cell_type": "code",
   "execution_count": 305,
   "metadata": {
    "collapsed": true
   },
   "outputs": [],
   "source": [
    "from xgboost.sklearn import XGBClassifier"
   ]
  },
  {
   "cell_type": "code",
   "execution_count": 306,
   "metadata": {},
   "outputs": [],
   "source": [
    "# Save the Column names to combine later\n",
    "column_names=pd.DataFrame(X_train.columns).transpose()\n",
    "column_names=column_names.iloc[0]"
   ]
  },
  {
   "cell_type": "code",
   "execution_count": 307,
   "metadata": {},
   "outputs": [],
   "source": [
    "# Reset the column names\n",
    "X_train.columns=header\n",
    "X_test.columns=header"
   ]
  },
  {
   "cell_type": "markdown",
   "metadata": {},
   "source": [
    "#### Train the model"
   ]
  },
  {
   "cell_type": "code",
   "execution_count": 308,
   "metadata": {},
   "outputs": [
    {
     "name": "stdout",
     "output_type": "stream",
     "text": [
      "Time Taken: 16.936458683\n"
     ]
    }
   ],
   "source": [
    "t0=time()\n",
    "parameters = {'n_estimators':sp_randint(50,500),'max_depth':sp_randint(2,15)}\n",
    "xgb=XGBClassifier(objective='binary:logistic')\n",
    "random_search2 = RandomizedSearchCV(xgb, param_distributions=parameters,n_iter=10,n_jobs=-1)\n",
    "result2=random_search2.fit(X_train,y_train.astype(int))\n",
    "print 'Time Taken:',(time()-t0)/60.0"
   ]
  },
  {
   "cell_type": "code",
   "execution_count": 309,
   "metadata": {},
   "outputs": [
    {
     "name": "stdout",
     "output_type": "stream",
     "text": [
      "Best Model:\n"
     ]
    },
    {
     "data": {
      "text/plain": [
       "XGBClassifier(base_score=0.5, colsample_bylevel=1, colsample_bytree=1,\n",
       "       gamma=0, learning_rate=0.1, max_delta_step=0, max_depth=2,\n",
       "       min_child_weight=1, missing=None, n_estimators=486, nthread=-1,\n",
       "       objective='binary:logistic', reg_alpha=0, reg_lambda=1,\n",
       "       scale_pos_weight=1, seed=0, silent=True, subsample=1)"
      ]
     },
     "execution_count": 309,
     "metadata": {},
     "output_type": "execute_result"
    }
   ],
   "source": [
    "print 'Best Model:'\n",
    "result2.best_estimator_"
   ]
  },
  {
   "cell_type": "code",
   "execution_count": 310,
   "metadata": {},
   "outputs": [],
   "source": [
    "GB =XGBClassifier(n_estimators=490,objective='binary:logistic',max_depth=2)\n",
    "result_GB=GB.fit(X_train,y_train)"
   ]
  },
  {
   "cell_type": "code",
   "execution_count": 311,
   "metadata": {},
   "outputs": [
    {
     "name": "stdout",
     "output_type": "stream",
     "text": [
      "Feature                                Importance\n",
      "goal                                  0.276596\n",
      "projectlength_days                    0.203515\n",
      "state[T.CA]                           0.0228955\n",
      "country[T.US]                         0.0222017\n",
      "country[T.GB]                         0.0191952\n",
      "state[T.NY]                           0.0148011\n",
      "subcategory[T.product%20design]       0.0117946\n",
      "\n"
     ]
    }
   ],
   "source": [
    "from tabulate import tabulate\n",
    "headers = [\"Feature\", \"Importance\"]\n",
    "importance_values = sorted(zip(column_names, result_GB.feature_importances_), key=lambda x: x[1] * -1)\n",
    "print(tabulate(importance_values, headers, tablefmt=\"plain\")[:384])"
   ]
  },
  {
   "cell_type": "code",
   "execution_count": 312,
   "metadata": {},
   "outputs": [
    {
     "name": "stdout",
     "output_type": "stream",
     "text": [
      "Training Accuracy: 0.76414316936\n",
      "Test Accuracy: 0.743375407506\n",
      "Recall Score: 0.576798444588\n"
     ]
    }
   ],
   "source": [
    "prediction_train_GB = result_GB.predict(X_train)\n",
    "prediction_GB = result_GB.predict(X_test)\n",
    "print 'Training Accuracy:',metrics.accuracy_score(y_train, prediction_train_GB)\n",
    "print 'Test Accuracy:',metrics.accuracy_score(y_test, prediction_GB)\n",
    "print 'Recall Score:',metrics.recall_score(y_test,prediction_GB)"
   ]
  },
  {
   "cell_type": "markdown",
   "metadata": {},
   "source": [
    "The XGBoost out performed both the Random Forest and logistic regression, with further hyper parameter tuning a better accuracy could be achieved"
   ]
  },
  {
   "cell_type": "code",
   "execution_count": 313,
   "metadata": {
    "scrolled": true
   },
   "outputs": [
    {
     "data": {
      "text/plain": [
       "array([[6223, 1111],\n",
       "       [1959, 2670]])"
      ]
     },
     "execution_count": 313,
     "metadata": {},
     "output_type": "execute_result"
    }
   ],
   "source": [
    "confusion_matrix(y_true=y_test,y_pred=prediction_GB)"
   ]
  },
  {
   "cell_type": "markdown",
   "metadata": {},
   "source": [
    "### Given more time/computational power Hyper-parameter tuning would be performed more robustly\n"
   ]
  },
  {
   "cell_type": "code",
   "execution_count": null,
   "metadata": {
    "collapsed": true
   },
   "outputs": [],
   "source": [
    "cv_repeat=RepeatedStratifiedKFold(n_splits=2, n_repeats=5, random_state=1)"
   ]
  },
  {
   "cell_type": "code",
   "execution_count": null,
   "metadata": {
    "collapsed": true
   },
   "outputs": [],
   "source": [
    "t0=time()\n",
    "parameters = {'n_estimators':sp_randint(50, 500), 'max_depth':sp_randint(10, 50),'criterion':('gini','entropy')}\n",
    "RF =ensemble.RandomForestClassifier()\n",
    "random_search = RandomizedSearchCV(RF, param_distributions=parameters,n_iter=10,cv=cv_repeat,n_jobs=-1)\n",
    "result=random_search.fit(X,y)\n",
    "print 'Time Taken:',time()-t0\n",
    "result.best_estimator_"
   ]
  },
  {
   "cell_type": "code",
   "execution_count": null,
   "metadata": {
    "collapsed": true
   },
   "outputs": [],
   "source": [
    "prediction_train = model.predict(X_train)\n",
    "prediction = model.predict(X_test)\n",
    "print 'Training Accuracy:',metrics.accuracy_score(y_train, prediction_train)\n",
    "print 'Test Accuracy:',metrics.accuracy_score(y_test, prediction)"
   ]
  }
 ],
 "metadata": {
  "kernelspec": {
   "display_name": "Python 2",
   "language": "python",
   "name": "python2"
  },
  "language_info": {
   "codemirror_mode": {
    "name": "ipython",
    "version": 2
   },
   "file_extension": ".py",
   "mimetype": "text/x-python",
   "name": "python",
   "nbconvert_exporter": "python",
   "pygments_lexer": "ipython2",
   "version": "2.7.13"
  }
 },
 "nbformat": 4,
 "nbformat_minor": 2
}
